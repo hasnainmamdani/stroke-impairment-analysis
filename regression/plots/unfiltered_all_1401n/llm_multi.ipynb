{
 "cells": [
  {
   "cell_type": "code",
   "execution_count": 1,
   "metadata": {},
   "outputs": [],
   "source": [
    "import numpy as np\n",
    "import pandas as pd\n",
    "import os\n",
    "import glob\n",
    "import seaborn as sns\n",
    "import matplotlib.pyplot as plt\n",
    "pd.set_option(\"display.max_colwidth\", 200)\n",
    "pd.set_option(\"display.max_row\", 500)"
   ]
  },
  {
   "cell_type": "code",
   "execution_count": 17,
   "metadata": {},
   "outputs": [],
   "source": [
    "def plot_scores(score_df, metric, score_type, title=\"\", save_folder=\"\", col_order=None, hue_order=None):\n",
    "\n",
    "    g = sns.catplot(x=\"Domain\", y=\"Score\", hue=\"alpha\", col=\"Data mul factor\", col_order=col_order,\n",
    "                    data=score_df, ci=\"sd\", kind=\"bar\", hue_order=hue_order,\n",
    "                    row_order=[100.0, 80.0, 60.0, 40.0, 20.0])\n",
    "\n",
    "    g.set_axis_labels(\"\", \"Score (Mean and Standard Deviation across 5 CV folds)\")\n",
    "\n",
    "    for i, ax in enumerate(g.fig.axes):\n",
    "        ax.set_xticklabels(ax.get_xticklabels(), roation=65)\n",
    "        ax.axhline(0, color=\"black\")\n",
    "\n",
    "    g.fig.suptitle(title, y=1.08, fontsize=30)\n",
    "    \n",
    "    if metric == \"R2\" and score_type == \"Out-of-sample\":\n",
    "        g.set(ylim=(-1, 0.2))\n",
    "#         plt.savefig(save_folder + title, bbox_inches=\"tight\")\n",
    "#         pass\n",
    "        \n",
    "    if metric == \"R2\" and (score_type == \"In-sample\" or score_type == \"In-sample (original)\"):\n",
    "        g.set(ylim=(-0.05, 1.0))\n",
    "        for i, ax in enumerate(g.fig.axes):\n",
    "            ax.axhline(0.1, color=\"black\")\n",
    "            ax.axhline(0.2, color=\"black\")\n",
    "        \n",
    "    if metric == \"MAE\":\n",
    "        g.set(ylim=(0.0, 1.6))\n",
    "        for i, ax in enumerate(g.fig.axes):\n",
    "            ax.axhline(0.6, color=\"black\")\n",
    "        \n",
    "    plt.show()\n",
    "#     plt.savefig(save_folder + title, bbox_inches=\"tight\")\n",
    "\n",
    "\n",
    "def plot_all_scores(score_df, title_prefix=\"\", save_folder=\"\", col_order=None, hue_order=None):   \n",
    "\n",
    "    for metric in score_df[\"Metric\"].unique():\n",
    "\n",
    "        for score_type in np.sort(score_df[\"Score type\"].unique()):\n",
    "            \n",
    "            for model in score_df[\"Model\"].unique():\n",
    "\n",
    "                filtered_data = score_df[(score_df[\"Metric\"] == metric) & (score_df[\"Score type\"] == score_type) \n",
    "                                         & (score_df[\"Model\"] == model)]\n",
    "                \n",
    "                if score_type == \"In-sample (original)\":\n",
    "                    filtered_data = filtered_data[filtered_data[\"alpha\"] != \"No mixup\"]\n",
    "                    col_order_new=[\"5x\", \"10x\"]\n",
    "                else:\n",
    "                    col_order_new = col_order\n",
    "\n",
    "                title = title_prefix + model + \" - \" + metric + \" - \" + score_type\n",
    "\n",
    "                plot_scores(filtered_data, metric, score_type, title, save_folder, col_order=col_order_new, hue_order=hue_order)"
   ]
  },
  {
   "cell_type": "code",
   "execution_count": 5,
   "metadata": {},
   "outputs": [],
   "source": [
    "# utility to load results\n",
    "def load_dfs(direc, regex):\n",
    "    path = \"/Users/hasnainmamdani/Academics/McGill/thesis/stroke-impairment-analysis/regression/results/\" + direc\n",
    "    filenames = glob.glob(os.path.join(path, regex))\n",
    "    filenames.sort()\n",
    "\n",
    "    res = []\n",
    "    bps = []\n",
    "    for fn in filenames:\n",
    "        if \"best-params-\" in fn:\n",
    "            bp = pd.read_hdf(fn, key='p', mode='r')\n",
    "#             print(bp[\"% Data (train)\"].unique(), bp[\"Data mul factor\"].unique(), bp[\"alpha\"].unique())\n",
    "            print(bp[\"Data mul factor\"].unique(), bp[\"alpha\"].unique())\n",
    "            bps.append(bp)\n",
    "        else:\n",
    "            res.append(pd.read_hdf(fn, key='p', mode='r'))\n",
    "\n",
    "    print(len(res), len(bps))\n",
    "    return res, bps"
   ]
  },
  {
   "cell_type": "markdown",
   "metadata": {},
   "source": [
    "## 1- Multitask Ridge"
   ]
  },
  {
   "cell_type": "code",
   "execution_count": 66,
   "metadata": {},
   "outputs": [],
   "source": [
    "# mridge = pd.read_hdf('results/multioutput/atlas-llm-with-wm-mixup-before-log/results_atlas_llm_multioutput_mixup_before_log_mridge_all.h5', key='p', mode='r')\n",
    "# mbpridge = pd.read_hdf('results/multioutput/atlas-llm-with-wm-mixup-before-log/best_params_atlas_llm_multioutput_mixup_before_log_mridge_all.h5', key='p', mode='r')\n",
    "\n",
    "mridge.to_hdf('results/multioutput/atlas-llm-with-wm-mixup-before-log/results_atlas_llm_multioutput_mixup_before_log_mridge_all.h5', key='p', mode='w')\n",
    "mbpridge.to_hdf('results/multioutput/atlas-llm-with-wm-mixup-before-log/best_params_atlas_llm_multioutput_mixup_before_log_mridge_all.h5', key='p', mode='w')"
   ]
  },
  {
   "cell_type": "code",
   "execution_count": 61,
   "metadata": {},
   "outputs": [
    {
     "name": "stdout",
     "output_type": "stream",
     "text": [
      "['No mixup' '5x' '10x'] ['No mixup' 0.01 0.1]\n",
      "['5x' '10x'] [0.3 1. ]\n",
      "2 2\n"
     ]
    }
   ],
   "source": [
    "mridlist, mbpridlist = load_dfs(\"\", \"*multioutput*mridge*\")"
   ]
  },
  {
   "cell_type": "code",
   "execution_count": 64,
   "metadata": {},
   "outputs": [],
   "source": [
    "# mbpridge"
   ]
  },
  {
   "cell_type": "code",
   "execution_count": 62,
   "metadata": {},
   "outputs": [],
   "source": [
    "mridge = pd.concat(mridlist, ignore_index=True)\n",
    "mbpridge = pd.concat(mbpridlist, ignore_index=True)"
   ]
  },
  {
   "cell_type": "code",
   "execution_count": 4,
   "metadata": {},
   "outputs": [],
   "source": [
    "# plot_all_scores(mridge, col_order=[\"No mixup\", \"5x\", \"10x\"], hue_order=[\"No mixup\", 0.01, 0.1, 0.3, 1.0])"
   ]
  },
  {
   "cell_type": "markdown",
   "metadata": {},
   "source": [
    "## 2- PLS"
   ]
  },
  {
   "cell_type": "code",
   "execution_count": 3,
   "metadata": {},
   "outputs": [],
   "source": [
    "pls = pd.read_hdf('results/multioutput/atlas-llm-with-wm-mixup-before-log/results_atlas_llm_multioutput_mixup_before_log_pls_all.h5', key='p', mode='r')\n",
    "bppls = pd.read_hdf('results/multioutput/atlas-llm-with-wm-mixup-before-log/best_params_atlas_llm_multioutput_mixup_before_log_pls_all.h5', key='p', mode='r')\n",
    "\n",
    "# pls.to_hdf('results/multioutput/atlas-llm-with-wm-mixup-before-log/results_atlas_llm_multioutput_mixup_before_log_pls_all.h5', key='p', mode='w')\n",
    "# bppls.to_hdf('results/multioutput/atlas-llm-with-wm-mixup-before-log/best_params_atlas_llm_multioutput_mixup_before_log_pls_all.h5', key='p', mode='w')\n"
   ]
  },
  {
   "cell_type": "code",
   "execution_count": 6,
   "metadata": {},
   "outputs": [
    {
     "name": "stdout",
     "output_type": "stream",
     "text": [
      "['No mixup' '5x'] ['No mixup' 0.01]\n",
      "1 1\n"
     ]
    }
   ],
   "source": [
    "plslist, bpplslist = load_dfs(\"\", \"*multioutput*pls*\")"
   ]
  },
  {
   "cell_type": "code",
   "execution_count": 8,
   "metadata": {},
   "outputs": [],
   "source": [
    "pls = pd.concat(plslist, ignore_index=True)\n",
    "bppls = pd.concat(bpplslist, ignore_index=True)"
   ]
  },
  {
   "cell_type": "code",
   "execution_count": 9,
   "metadata": {},
   "outputs": [
    {
     "data": {
      "text/html": [
       "<div>\n",
       "<style scoped>\n",
       "    .dataframe tbody tr th:only-of-type {\n",
       "        vertical-align: middle;\n",
       "    }\n",
       "\n",
       "    .dataframe tbody tr th {\n",
       "        vertical-align: top;\n",
       "    }\n",
       "\n",
       "    .dataframe thead th {\n",
       "        text-align: right;\n",
       "    }\n",
       "</style>\n",
       "<table border=\"1\" class=\"dataframe\">\n",
       "  <thead>\n",
       "    <tr style=\"text-align: right;\">\n",
       "      <th></th>\n",
       "      <th>Data mul factor</th>\n",
       "      <th>alpha</th>\n",
       "      <th>Model</th>\n",
       "      <th>Fold</th>\n",
       "      <th>Best params</th>\n",
       "    </tr>\n",
       "  </thead>\n",
       "  <tbody>\n",
       "    <tr>\n",
       "      <th>0</th>\n",
       "      <td>No mixup</td>\n",
       "      <td>No mixup</td>\n",
       "      <td>PLS</td>\n",
       "      <td>1</td>\n",
       "      <td>{'n_components': 1}</td>\n",
       "    </tr>\n",
       "    <tr>\n",
       "      <th>1</th>\n",
       "      <td>No mixup</td>\n",
       "      <td>No mixup</td>\n",
       "      <td>PLS</td>\n",
       "      <td>2</td>\n",
       "      <td>{'n_components': 1}</td>\n",
       "    </tr>\n",
       "    <tr>\n",
       "      <th>2</th>\n",
       "      <td>No mixup</td>\n",
       "      <td>No mixup</td>\n",
       "      <td>PLS</td>\n",
       "      <td>3</td>\n",
       "      <td>{'n_components': 1}</td>\n",
       "    </tr>\n",
       "    <tr>\n",
       "      <th>3</th>\n",
       "      <td>No mixup</td>\n",
       "      <td>No mixup</td>\n",
       "      <td>PLS</td>\n",
       "      <td>4</td>\n",
       "      <td>{'n_components': 2}</td>\n",
       "    </tr>\n",
       "    <tr>\n",
       "      <th>4</th>\n",
       "      <td>No mixup</td>\n",
       "      <td>No mixup</td>\n",
       "      <td>PLS</td>\n",
       "      <td>5</td>\n",
       "      <td>{'n_components': 1}</td>\n",
       "    </tr>\n",
       "    <tr>\n",
       "      <th>5</th>\n",
       "      <td>5x</td>\n",
       "      <td>0.01</td>\n",
       "      <td>PLS</td>\n",
       "      <td>1</td>\n",
       "      <td>{'n_components': 6}</td>\n",
       "    </tr>\n",
       "    <tr>\n",
       "      <th>6</th>\n",
       "      <td>5x</td>\n",
       "      <td>0.01</td>\n",
       "      <td>PLS</td>\n",
       "      <td>2</td>\n",
       "      <td>{'n_components': 6}</td>\n",
       "    </tr>\n",
       "    <tr>\n",
       "      <th>7</th>\n",
       "      <td>5x</td>\n",
       "      <td>0.01</td>\n",
       "      <td>PLS</td>\n",
       "      <td>3</td>\n",
       "      <td>{'n_components': 6}</td>\n",
       "    </tr>\n",
       "    <tr>\n",
       "      <th>8</th>\n",
       "      <td>5x</td>\n",
       "      <td>0.01</td>\n",
       "      <td>PLS</td>\n",
       "      <td>4</td>\n",
       "      <td>{'n_components': 6}</td>\n",
       "    </tr>\n",
       "    <tr>\n",
       "      <th>9</th>\n",
       "      <td>5x</td>\n",
       "      <td>0.01</td>\n",
       "      <td>PLS</td>\n",
       "      <td>5</td>\n",
       "      <td>{'n_components': 6}</td>\n",
       "    </tr>\n",
       "  </tbody>\n",
       "</table>\n",
       "</div>"
      ],
      "text/plain": [
       "  Data mul factor     alpha Model  Fold          Best params\n",
       "0        No mixup  No mixup   PLS     1  {'n_components': 1}\n",
       "1        No mixup  No mixup   PLS     2  {'n_components': 1}\n",
       "2        No mixup  No mixup   PLS     3  {'n_components': 1}\n",
       "3        No mixup  No mixup   PLS     4  {'n_components': 2}\n",
       "4        No mixup  No mixup   PLS     5  {'n_components': 1}\n",
       "5              5x      0.01   PLS     1  {'n_components': 6}\n",
       "6              5x      0.01   PLS     2  {'n_components': 6}\n",
       "7              5x      0.01   PLS     3  {'n_components': 6}\n",
       "8              5x      0.01   PLS     4  {'n_components': 6}\n",
       "9              5x      0.01   PLS     5  {'n_components': 6}"
      ]
     },
     "execution_count": 9,
     "metadata": {},
     "output_type": "execute_result"
    }
   ],
   "source": [
    "bppls"
   ]
  },
  {
   "cell_type": "code",
   "execution_count": 11,
   "metadata": {},
   "outputs": [],
   "source": [
    "# plot_all_scores(pls, col_order=[\"No mixup\", \"5x\", \"10x\"], hue_order=[\"No mixup\", 0.01, 0.1, 0.3, 1.0])"
   ]
  },
  {
   "cell_type": "markdown",
   "metadata": {},
   "source": [
    "## 3- CCA"
   ]
  },
  {
   "cell_type": "code",
   "execution_count": 5,
   "metadata": {},
   "outputs": [],
   "source": [
    "cca = pd.read_hdf('results/multioutput/atlas-llm-with-wm-mixup-before-log/results_atlas_llm_multioutput_mixup_before_log_cca_all.h5', key='p', mode='r')\n",
    "bpcca = pd.read_hdf('results/multioutput/atlas-llm-with-wm-mixup-before-log/best_params_atlas_llm_multioutput_mixup_before_log_cca_all.h5', key='p', mode='r')\n",
    "\n",
    "# cca.to_hdf('results/multioutput/atlas-llm-with-wm-mixup-before-log/results_atlas_llm_multioutput_mixup_before_log_cca_all.h5', key='p', mode='w')\n",
    "# bpcca.to_hdf('results/multioutput/atlas-llm-with-wm-mixup-before-log/best_params_atlas_llm_multioutput_mixup_before_log_cca_all.h5', key='p', mode='w')\n"
   ]
  },
  {
   "cell_type": "code",
   "execution_count": 96,
   "metadata": {},
   "outputs": [
    {
     "name": "stdout",
     "output_type": "stream",
     "text": [
      "['No mixup' '5x' '10x'] ['No mixup' 0.01 0.1 0.3 1.0]\n",
      "1 1\n"
     ]
    }
   ],
   "source": [
    "ccalist, bpccalist = load_dfs(\"\", \"*multioutput*cca*\")"
   ]
  },
  {
   "cell_type": "code",
   "execution_count": 12,
   "metadata": {},
   "outputs": [],
   "source": [
    "# bpcca"
   ]
  },
  {
   "cell_type": "code",
   "execution_count": 99,
   "metadata": {},
   "outputs": [],
   "source": [
    "cca = pd.concat(ccalist, ignore_index=True)\n",
    "bpcca = pd.concat(bpccalist, ignore_index=True)"
   ]
  },
  {
   "cell_type": "code",
   "execution_count": 13,
   "metadata": {},
   "outputs": [],
   "source": [
    "# plot_all_scores(cca, col_order=[\"No mixup\", \"5x\", \"10x\"], hue_order=[\"No mixup\", 0.01, 0.1, 0.3, 1.0])"
   ]
  },
  {
   "cell_type": "markdown",
   "metadata": {},
   "source": [
    "## 4- Multioutput Random Forest"
   ]
  },
  {
   "cell_type": "code",
   "execution_count": 9,
   "metadata": {},
   "outputs": [],
   "source": [
    "rf = pd.read_hdf('results/multioutput/atlas-llm-with-wm-mixup-before-log/results_atlas_llm_multioutput_mixup_before_log_rf_all.h5', key='p', mode='r')\n",
    "bprf = pd.read_hdf('results/multioutput/atlas-llm-with-wm-mixup-before-log/best_params_atlas_llm_multioutput_mixup_before_log_rf_all.h5', key='p', mode='r')\n",
    "\n",
    "# rf.to_hdf('results/multioutput/atlas-llm-with-wm-mixup-before-log/results_atlas_llm_multioutput_mixup_before_log_rf_all.h5', key='p', mode='w')\n",
    "# bprf.to_hdf('results/multioutput/atlas-llm-with-wm-mixup-before-log/best_params_atlas_llm_multioutput_mixup_before_log_rf_all.h5', key='p', mode='w')"
   ]
  },
  {
   "cell_type": "code",
   "execution_count": 67,
   "metadata": {},
   "outputs": [
    {
     "name": "stdout",
     "output_type": "stream",
     "text": [
      "['10x'] [0.01]\n",
      "['10x'] [0.1]\n",
      "['10x'] [0.3]\n",
      "['10x'] [1.]\n",
      "['No mixup' '5x'] ['No mixup' 0.01 0.1]\n",
      "['5x'] [0.3 1. ]\n",
      "6 6\n"
     ]
    }
   ],
   "source": [
    "rflist, bprflist = load_dfs(\"\",\"*multioutput*rf*\")"
   ]
  },
  {
   "cell_type": "code",
   "execution_count": 15,
   "metadata": {},
   "outputs": [],
   "source": [
    "# bprf"
   ]
  },
  {
   "cell_type": "code",
   "execution_count": 68,
   "metadata": {},
   "outputs": [],
   "source": [
    "rf = pd.concat(rflist, ignore_index=True)\n",
    "bprf = pd.concat(bprflist, ignore_index=True)"
   ]
  },
  {
   "cell_type": "code",
   "execution_count": 16,
   "metadata": {},
   "outputs": [],
   "source": [
    "# plot_all_scores(rf, col_order=[\"No mixup\", \"5x\", \"10x\"], hue_order=[\"No mixup\", 0.01, 0.1, 0.3, 1.0])"
   ]
  },
  {
   "cell_type": "code",
   "execution_count": null,
   "metadata": {},
   "outputs": [],
   "source": []
  },
  {
   "cell_type": "code",
   "execution_count": null,
   "metadata": {},
   "outputs": [],
   "source": []
  }
 ],
 "metadata": {
  "kernelspec": {
   "display_name": "Python 3",
   "language": "python",
   "name": "python3"
  },
  "language_info": {
   "codemirror_mode": {
    "name": "ipython",
    "version": 3
   },
   "file_extension": ".py",
   "mimetype": "text/x-python",
   "name": "python",
   "nbconvert_exporter": "python",
   "pygments_lexer": "ipython3",
   "version": "3.7.6"
  }
 },
 "nbformat": 4,
 "nbformat_minor": 4
}
