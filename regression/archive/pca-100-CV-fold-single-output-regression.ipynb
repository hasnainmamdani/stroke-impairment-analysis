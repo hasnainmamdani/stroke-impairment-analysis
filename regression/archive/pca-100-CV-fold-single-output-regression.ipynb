{
 "cells": [
  {
   "cell_type": "code",
   "execution_count": 11,
   "metadata": {
    "colab": {},
    "colab_type": "code",
    "id": "Wjv0inCtQNoq"
   },
   "outputs": [],
   "source": [
    "#from nilearn import plotting\n",
    "#from nilearn.input_data import NiftiMasker\n",
    "#from nilearn.datasets import load_mni152_brain_mask\n",
    "import os\n",
    "import glob\n",
    "import numpy as np\n",
    "import pandas as pd\n",
    "import random\n",
    "from sklearn.decomposition import PCA\n",
    "from sklearn.preprocessing import StandardScaler\n",
    "from sklearn.linear_model import Ridge\n",
    "from sklearn.ensemble import RandomForestRegressor \n",
    "from sklearn.cross_decomposition import PLSRegression, CCA\n",
    "from sklearn.multioutput import MultiOutputRegressor\n",
    "from sklearn.svm import SVR\n",
    "import xgboost as xgb\n",
    "import regression_common\n",
    "import joblib\n",
    "import matplotlib.pyplot as plt\n",
    "\n",
    "#To ensure reproducibility\n",
    "random.seed(39)\n",
    "np.random.seed(39)\n",
    "\n",
    "data_dir='../../data/'"
   ]
  },
  {
   "cell_type": "code",
   "execution_count": 3,
   "metadata": {
    "colab": {
     "base_uri": "https://localhost:8080/",
     "height": 122.0
    },
    "colab_type": "code",
    "executionInfo": {
     "elapsed": 39481.0,
     "status": "ok",
     "timestamp": 1.58345532999E12,
     "user": {
      "displayName": "Hasnain Mamdani",
      "photoUrl": "",
      "userId": "14802377361007897128"
     },
     "user_tz": 300.0
    },
    "id": "UO2WLDuWSjqY",
    "outputId": "efae4420-06a8-4c48-88d8-51b71e83d6a4"
   },
   "outputs": [
    {
     "name": "stdout",
     "output_type": "stream",
     "text": [
      "Go to this URL in a browser: https://accounts.google.com/o/oauth2/auth?client_id=947318989803-6bn6qk8qdgf4n4g3pfee6491hc0brc4i.apps.googleusercontent.com&redirect_uri=urn%3aietf%3awg%3aoauth%3a2.0%3aoob&response_type=code&scope=email%20https%3a%2f%2fwww.googleapis.com%2fauth%2fdocs.test%20https%3a%2f%2fwww.googleapis.com%2fauth%2fdrive%20https%3a%2f%2fwww.googleapis.com%2fauth%2fdrive.photos.readonly%20https%3a%2f%2fwww.googleapis.com%2fauth%2fpeopleapi.readonly\n",
      "\n",
      "Enter your authorization code:\n",
      "··········\n",
      "Mounted at /content/drive\n"
     ]
    }
   ],
   "source": [
    "from google.colab import drive\n",
    "data_dir='drive/My Drive/colab/'\n",
    "drive.mount('/content/drive')"
   ]
  },
  {
   "cell_type": "code",
   "execution_count": 2,
   "metadata": {
    "colab": {
     "base_uri": "https://localhost:8080/",
     "height": 34.0
    },
    "colab_type": "code",
    "executionInfo": {
     "elapsed": 3158.0,
     "status": "ok",
     "timestamp": 1.583455397418E12,
     "user": {
      "displayName": "Hasnain Mamdani",
      "photoUrl": "",
      "userId": "14802377361007897128"
     },
     "user_tz": 300.0
    },
    "id": "PLfpQe_hQNo-",
    "outputId": "d521597d-252d-4474-e686-d68207eb9aaa"
   },
   "outputs": [
    {
     "name": "stdout",
     "output_type": "stream",
     "text": [
      "(1401, 228453)\n"
     ]
    }
   ],
   "source": [
    "# Create/store/load binary image data\n",
    "if not os.path.isfile(data_dir + 'binary_imgs.npy'):\n",
    "\n",
    "    dataset_path = \"../sample-dataset/HallymBundang_lesionmaps_Bzdok_n1401/\"\n",
    "    img_filenames = glob.glob(os.path.join(dataset_path, '*.nii.gz'))\n",
    "    img_filenames.sort()\n",
    "    print('Number of subjects: %d' % len(img_filenames))\n",
    "\n",
    "    img_shape = load_img(img_filenames[0]).shape\n",
    "\n",
    "    mask_img = load_mni152_brain_mask()\n",
    "    masker = NiftiMasker(mask_img=mask_img, memory='nilearn_cache', verbose=5)\n",
    "    masker = masker.fit()\n",
    "\n",
    "    imgs = masker.transform(img_filenames) # break down into slices if necessary\n",
    "    imgs = imgs.astype(bool)\n",
    "    np.save(data_dir + 'binary_imgs', imgs)\n",
    "\n",
    "else:\n",
    "    imgs = np.load(data_dir + 'binary_imgs.npy')\n",
    "\n",
    "print(imgs.shape)"
   ]
  },
  {
   "cell_type": "code",
   "execution_count": 0,
   "metadata": {
    "colab": {},
    "colab_type": "code",
    "id": "4KW9npCqQNpj",
    "outputId": "126b4123-7b53-432c-812e-f6a1e2080c57"
   },
   "outputs": [
    {
     "data": {
      "image/png": "[encoded data removed]",
      "text/plain": [
       "<Figure size 432x288 with 1 Axes>"
      ]
     },
     "metadata": {
      "needs_background": "light",
      "tags": []
     },
     "output_type": "display_data"
    }
   ],
   "source": [
    "# plot variance explained by components\n",
    "if not os.path.isfile('../data/pca_all.joblib'): \n",
    "    pca_all = PCA(copy=False)\n",
    "    X_pc_all = pca_all.fit_transform(imgs)\n",
    "    #np.save('../data/binary_imgs_pc_all.npy', X_pc_all)\n",
    "    joblib.dump(pca_all, '../data/pca_all.joblib')\n",
    "\n",
    "else:\n",
    "    pca_all = joblib.load('../data/pca_all.joblib')\n",
    "    \n",
    "plt.plot(pca_all.explained_variance_ratio_)\n",
    "plt.title(\"Variance captured by principal components\")\n",
    "plt.xlabel(\"PC\")\n",
    "plt.ylabel(\"Explained variance ratio\")\n",
    "plt.show()"
   ]
  },
  {
   "cell_type": "markdown",
   "metadata": {
    "colab_type": "text",
    "id": "uo_Ajvs2QNp2"
   },
   "source": [
    "### Single-output Regression analysis with 100 PC components, repreat on every fold"
   ]
  },
  {
   "cell_type": "code",
   "execution_count": 3,
   "metadata": {
    "colab": {},
    "colab_type": "code",
    "collapsed": true,
    "id": "VkY6EEJ0QNqR"
   },
   "outputs": [],
   "source": [
    "X = imgs\n",
    "patient_df = pd.read_hdf(data_dir + 'patients.h5', 'p')\n",
    "scaler_Y = StandardScaler()\n",
    "Y = scaler_Y.fit_transform(np.array(patient_df[patient_df.columns[5:11]]))"
   ]
  },
  {
   "cell_type": "markdown",
   "metadata": {
    "colab_type": "text",
    "id": "tm78ra7SQNq2"
   },
   "source": [
    "### Ridge"
   ]
  },
  {
   "cell_type": "code",
   "execution_count": 4,
   "metadata": {
    "colab": {},
    "colab_type": "code",
    "collapsed": true,
    "id": "4uRsuwhvQNrH"
   },
   "outputs": [],
   "source": [
    "def perform_ridge(X, Y):\n",
    "    print('Performing Ridge regression (5-fold nested CV) on each domain')\n",
    "    estimator = MultiOutputRegressor(Ridge())\n",
    "    #alpha = np.linspace(0, 10, 51)\n",
    "    alpha = np.linspace(20000, 80000, 501)\n",
    "    my_grid={\"estimator__alpha\": alpha}\n",
    "    return regression_common.perform_regression(X, Y, estimator, my_grid, pca_fold=True)"
   ]
  },
  {
   "cell_type": "code",
   "execution_count": 5,
   "metadata": {
    "colab": {
     "base_uri": "https://localhost:8080/",
     "height": 344.0
    },
    "colab_type": "code",
    "executionInfo": {
     "elapsed": 10247.0,
     "status": "error",
     "timestamp": 1.58345600126E12,
     "user": {
      "displayName": "Hasnain Mamdani",
      "photoUrl": "",
      "userId": "14802377361007897128"
     },
     "user_tz": 300.0
    },
    "id": "VPM9VUgaQNrw",
    "outputId": "ee4649e1-aaac-461a-ab78-fdaa222108ed"
   },
   "outputs": [
    {
     "name": "stdout",
     "output_type": "stream",
     "text": [
      "Performing Ridge regression (5-fold nested CV) on each domain\n",
      "\n",
      "Fold-1: Best params: {'estimator__alpha': 70520.0}\n",
      "\n",
      "Fold-2: Best params: {'estimator__alpha': 42320.0}\n",
      "\n",
      "Fold-3: Best params: {'estimator__alpha': 38240.0}\n",
      "\n",
      "Fold-4: Best params: {'estimator__alpha': 29480.0}\n",
      "\n",
      "Fold-5: Best params: {'estimator__alpha': 51080.0}\n"
     ]
    }
   ],
   "source": [
    "scores_mr = perform_ridge(X, Y)"
   ]
  },
  {
   "cell_type": "markdown",
   "metadata": {
    "colab_type": "text",
    "id": "ghV9ZRfpQNsL"
   },
   "source": [
    "### SVR"
   ]
  },
  {
   "cell_type": "code",
   "execution_count": 14,
   "metadata": {
    "colab": {},
    "colab_type": "code",
    "collapsed": true,
    "id": "xV1lLhjqQNs2"
   },
   "outputs": [],
   "source": [
    "def perform_svr_rbf(X, Y):\n",
    "    print('Performing SVR regression (5-fold nested CV) on each domain')\n",
    "    estimator = MultiOutputRegressor(SVR(kernel='rbf'))\n",
    "    my_grid={\"estimator__C\": [1e-1, 1e0, 1e1, 1e2, 1e3], \"estimator__gamma\": np.logspace(-1, 8, 10)}\n",
    "    return regression_common.perform_regression(X, Y, estimator, my_grid, pca_fold=True)"
   ]
  },
  {
   "cell_type": "code",
   "execution_count": 15,
   "metadata": {
    "colab": {},
    "colab_type": "code",
    "id": "WTLRIDnuQNtT",
    "outputId": "008b026f-3742-4339-9652-6b24f22a68bd"
   },
   "outputs": [
    {
     "name": "stdout",
     "output_type": "stream",
     "text": [
      "Performing SVR regression (5-fold nested CV) on each domain\n",
      "\n",
      "Fold-1: Best params: {'estimator__C': 1.0, 'estimator__gamma': 100.0}\n",
      "\n",
      "Fold-2: Best params: {'estimator__C': 10.0, 'estimator__gamma': 100000.0}\n",
      "\n",
      "Fold-3: Best params: {'estimator__C': 10.0, 'estimator__gamma': 10000.0}\n",
      "\n",
      "Fold-4: Best params: {'estimator__C': 10.0, 'estimator__gamma': 10000.0}\n",
      "\n",
      "Fold-5: Best params: {'estimator__C': 1.0, 'estimator__gamma': 100.0}\n"
     ]
    }
   ],
   "source": [
    "scores_svr = perform_svr_rbf(X, Y)"
   ]
  },
  {
   "cell_type": "markdown",
   "metadata": {
    "colab_type": "text",
    "id": "xsbk7LZGQNuf"
   },
   "source": [
    "### Random Forest"
   ]
  },
  {
   "cell_type": "code",
   "execution_count": null,
   "metadata": {
    "colab": {},
    "colab_type": "code",
    "collapsed": true,
    "id": "jzuCRwvQQNul"
   },
   "outputs": [],
   "source": [
    "def perform_random_forest_regr(X, Y):\n",
    "    print('Performing Random Forest regression (5-fold nested CV) on each domain')\n",
    "    estimator = MultiOutputRegressor(RandomForestRegressor(random_state=39))\n",
    "\n",
    "    n_estimators = [10, 100, 500, 1000]\n",
    "    max_features = ['auto', 'sqrt', 'log2']\n",
    "    max_depth = [10, 50, 100, None]\n",
    "    min_samples_split = [2, 5, 10]\n",
    "    min_samples_leaf = [1, 2, 4]\n",
    "    max_samples = [0.4, 0.5, 0.7, 0.8]\n",
    "    \n",
    "    my_grid = {'estimator__n_estimators': n_estimators,\n",
    "               'estimator__max_features': max_features,\n",
    "               'estimator__max_depth': max_depth,\n",
    "               'estimator__min_samples_split': min_samples_split,\n",
    "               'estimator__min_samples_leaf': min_samples_leaf,\n",
    "               'estimator__max_samples': max_samples}\n",
    "    \n",
    "    return regression_common.perform_regression(X, Y, estimator, my_grid, random_search_cv=True, pca_fold=True)"
   ]
  },
  {
   "cell_type": "code",
   "execution_count": null,
   "metadata": {
    "colab": {},
    "colab_type": "code",
    "id": "pM85PXNGQNvS",
    "outputId": "1d85a9c6-7c75-48a2-c84f-6fa7a4523947"
   },
   "outputs": [
    {
     "name": "stdout",
     "output_type": "stream",
     "text": [
      "Performing Random Forest regression (5-fold nested CV) on each domain\n",
      "\n",
      "Fold-1: Best params: {'estimator__n_estimators': 1000, 'estimator__min_samples_split': 5, 'estimator__min_samples_leaf': 4, 'estimator__max_samples': 0.8, 'estimator__max_features': 'log2', 'estimator__max_depth': 10}\n",
      "\n",
      "Fold-2: Best params: {'estimator__n_estimators': 1000, 'estimator__min_samples_split': 5, 'estimator__min_samples_leaf': 4, 'estimator__max_samples': 0.8, 'estimator__max_features': 'log2', 'estimator__max_depth': 10}\n",
      "\n",
      "Fold-3: Best params: {'estimator__n_estimators': 1000, 'estimator__min_samples_split': 5, 'estimator__min_samples_leaf': 4, 'estimator__max_samples': 0.8, 'estimator__max_features': 'log2', 'estimator__max_depth': 10}\n",
      "\n",
      "Fold-4: Best params: {'estimator__n_estimators': 1000, 'estimator__min_samples_split': 5, 'estimator__min_samples_leaf': 4, 'estimator__max_samples': 0.8, 'estimator__max_features': 'log2', 'estimator__max_depth': 10}\n"
     ]
    }
   ],
   "source": [
    "scores_rf = perform_random_forest_regr(X, Y)"
   ]
  },
  {
   "cell_type": "markdown",
   "metadata": {
    "colab_type": "text",
    "collapsed": true,
    "id": "YopcefLWQNvn"
   },
   "source": [
    "### Neural Net"
   ]
  },
  {
   "cell_type": "code",
   "execution_count": null,
   "metadata": {
    "colab": {},
    "colab_type": "code",
    "collapsed": true,
    "id": "X2pnAE_IQNvr"
   },
   "outputs": [],
   "source": [
    "# For fun\n",
    "from keras.wrappers.scikit_learn import KerasRegressor\n",
    "from keras.models import Sequential\n",
    "from keras.layers import Dense\n",
    "\n",
    "def get_nn_model():\n",
    "    model = Sequential()\n",
    "    model.add(Dense(25, input_dim=X.shape[1], kernel_initializer='normal', activation='relu'))\n",
    "    model.add(Dense(10, kernel_initializer='normal', activation='relu'))\n",
    "    model.add(Dense(5, kernel_initializer='normal', activation='relu'))\n",
    "    model.add(Dense(1, kernel_initializer='normal', activation=None))\n",
    "\n",
    "    model.compile(loss='mean_squared_error', optimizer='adam')\n",
    "    return model\n",
    "\n",
    "def perform_nn_regr(X, Y):\n",
    "    print('Performing Neural Network regression (5-fold nested CV)')\n",
    "    estimator = MultiOutputRegressor(KerasRegressor(build_fn=get_nn_model, epochs=3, batch_size=4, verbose=0))\n",
    "    return regression_common.perform_regression(X, Y, estimator, {}, pca_fold=True)"
   ]
  },
  {
   "cell_type": "code",
   "execution_count": null,
   "metadata": {
    "colab": {},
    "colab_type": "code",
    "id": "3im2pD9EQNwB",
    "outputId": "35b72129-c361-4a8e-ea59-780a43c5e3d2"
   },
   "outputs": [],
   "source": [
    "scores_nn = perform_nn_regr(X, Y)"
   ]
  },
  {
   "cell_type": "code",
   "execution_count": null,
   "metadata": {
    "colab": {},
    "colab_type": "code",
    "collapsed": true,
    "id": "i-hN1OZmQNwp"
   },
   "outputs": [],
   "source": [
    "# to plot results\n",
    "\n",
    "scores_all_models = pd.DataFrame()\n",
    "\n",
    "scores_ridge.insert(0, \"Model\", \"Ridge\")\n",
    "scores_svr.insert(0, \"Model\", \"SVR\")\n",
    "scores_rf.insert(0, \"Model\", \"Random Forest\")\n",
    "#scores_xgb.insert(0, \"Model\", \"XGBoost\")\n",
    "scores_nn.insert(0, \"Model\", \"Neural Network\")\n",
    "\n",
    "scores_all_models = pd.concat([scores_ridge, scores_svr, scores_rf, scores_nn], ignore_index=True)\n",
    "# scores_all_models = pd.concat([scores_ridge, scores_svr, scores_rf, scores_xgb, scores_nn], ignore_index=True)"
   ]
  },
  {
   "cell_type": "code",
   "execution_count": null,
   "metadata": {
    "colab": {},
    "colab_type": "code",
    "collapsed": true,
    "id": "clEMPBuUQNwt"
   },
   "outputs": [],
   "source": [
    "# persist results\n",
    "scores_all_models.to_hdf(data_dir + 'results_pca_100_inside_cv_single_output.h5', key='p', mode='w')\n",
    "#scores_all_models = pd.read_hdf(data_dir + 'results_pca_100_inside_cv_single_output.h5', key='p', mode='r')"
   ]
  },
  {
   "cell_type": "code",
   "execution_count": null,
   "metadata": {
    "colab": {},
    "colab_type": "code",
    "id": "geqY6ixZQNxF",
    "outputId": "5f636d4c-c692-4f28-98d7-ba282a925a63"
   },
   "outputs": [],
   "source": [
    "# Plot results\n",
    "regression_common.plot_all_scores(scores_all_models)"
   ]
  },
  {
   "cell_type": "code",
   "execution_count": 0,
   "metadata": {
    "colab": {},
    "colab_type": "code",
    "collapsed": true,
    "id": "worq3chVQNxM"
   },
   "outputs": [],
   "source": [
    "// doing"
   ]
  }
 ],
 "metadata": {
  "colab": {
   "collapsed_sections": [],
   "name": "pca-100-CV-fold-single-output-regression-colab.ipynb",
   "provenance": []
  },
  "kernelspec": {
   "display_name": "Python 3",
   "language": "python",
   "name": "python3"
  },
  "language_info": {
   "codemirror_mode": {
    "name": "ipython",
    "version": 3
   },
   "file_extension": ".py",
   "mimetype": "text/x-python",
   "name": "python",
   "nbconvert_exporter": "python",
   "pygments_lexer": "ipython3",
   "version": "3.7.2"
  }
 },
 "nbformat": 4,
 "nbformat_minor": 1
}
