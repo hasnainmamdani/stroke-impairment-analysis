{
 "cells": [
  {
   "cell_type": "code",
   "execution_count": 2,
   "metadata": {
    "colab": {},
    "colab_type": "code",
    "id": "66r_Eywsw83X"
   },
   "outputs": [],
   "source": [
    "DATA_DIR = '../../data/' # for local\n",
    "# DATA_DIR = 'drive/My Drive/colab/' # for colab"
   ]
  },
  {
   "cell_type": "code",
   "execution_count": 1,
   "metadata": {},
   "outputs": [],
   "source": [
    "import os\n",
    "import glob\n",
    "import numpy as np\n",
    "import pandas as pd\n",
    "import random\n",
    "from sklearn.decomposition import PCA\n",
    "from sklearn.preprocessing import StandardScaler\n",
    "from sklearn.linear_model import MultiTaskElasticNet, Ridge\n",
    "from sklearn.ensemble import RandomForestRegressor \n",
    "from sklearn.svm import SVR\n",
    "import xgboost as xgb\n",
    "import joblib\n",
    "#import regression_common\n",
    "#from nilearn.input_data import NiftiMasker\n",
    "#from nilearn.datasets import load_mni152_brain_mask\n",
    "\n",
    "#To ensure reproducibility\n",
    "random.seed(39)\n",
    "np.random.seed(39)"
   ]
  },
  {
   "cell_type": "code",
   "execution_count": 3,
   "metadata": {
    "colab": {},
    "colab_type": "code",
    "id": "z54coNRSw83e",
    "outputId": "8e4cde7d-7b58-4830-e884-7b721c235ed7"
   },
   "outputs": [],
   "source": [
    "if False: # to be done once only\n",
    "    \n",
    "    # Create/store/load binary image data\n",
    "    if not os.path.isfile('../data/binary_imgs.npy'):\n",
    "\n",
    "        dataset_path = \"../sample-dataset/HallymBundang_lesionmaps_Bzdok_n1401/\"\n",
    "        img_filenames = glob.glob(os.path.join(dataset_path, '*.nii.gz'))\n",
    "        img_filenames.sort()\n",
    "        print('Number of subjects: %d' % len(img_filenames))\n",
    "\n",
    "        img_shape = load_img(img_filenames[0]).shape\n",
    "\n",
    "        mask_img = load_mni152_brain_mask()\n",
    "        masker = NiftiMasker(mask_img=mask_img, memory='nilearn_cache', verbose=5)\n",
    "        masker = masker.fit()\n",
    "\n",
    "        imgs = masker.transform(img_filenames) # break down into slices if necessary\n",
    "        imgs = imgs.astype(bool)\n",
    "        np.save('../data/binary_imgs', imgs)\n",
    "\n",
    "    else:\n",
    "        imgs = np.load('../data/binary_imgs.npy')\n",
    "\n",
    "    imgs.shape"
   ]
  },
  {
   "cell_type": "code",
   "execution_count": 4,
   "metadata": {
    "colab": {
     "base_uri": "https://localhost:8080/",
     "height": 34
    },
    "colab_type": "code",
    "executionInfo": {
     "elapsed": 1555,
     "status": "ok",
     "timestamp": 1583430178692,
     "user": {
      "displayName": "Hasnain Mamdani",
      "photoUrl": "",
      "userId": "14802377361007897128"
     },
     "user_tz": 300
    },
    "id": "Xz1zPJVkw83n",
    "outputId": "635beb21-a6ab-434d-b161-388cd6f2a287"
   },
   "outputs": [
    {
     "data": {
      "text/plain": [
       "(1401, 100)"
      ]
     },
     "execution_count": 4,
     "metadata": {},
     "output_type": "execute_result"
    }
   ],
   "source": [
    "# Calculate 100 PC components\n",
    "if not os.path.isfile(DATA_DIR + 'binary_imgs_pc_100.npy'):    \n",
    "    pca = PCA(n_components=100, copy=False)\n",
    "    X_pc = pca.fit_transform(imgs)\n",
    "    np.save(DATA_DIR + 'binary_imgs_pc_100.npy', X_pc)\n",
    "    \n",
    "else:\n",
    "    X_pc = np.load(DATA_DIR + 'binary_imgs_pc_100.npy')\n",
    "    \n",
    "X_pc.shape"
   ]
  },
  {
   "cell_type": "code",
   "execution_count": 5,
   "metadata": {
    "colab": {},
    "colab_type": "code",
    "id": "CEy5TQ3Lw83q"
   },
   "outputs": [
    {
     "name": "stdout",
     "output_type": "stream",
     "text": [
      "(1401, 6)\n"
     ]
    }
   ],
   "source": [
    "patient_df = pd.read_hdf(DATA_DIR + 'patients.h5', 'p')\n",
    "scaler_Y = StandardScaler()\n",
    "Y = scaler_Y.fit_transform(np.array(patient_df[patient_df.columns[5:11]]))\n",
    "print(Y.shape)"
   ]
  },
  {
   "cell_type": "code",
   "execution_count": null,
   "metadata": {},
   "outputs": [],
   "source": []
  },
  {
   "cell_type": "code",
   "execution_count": 36,
   "metadata": {},
   "outputs": [],
   "source": [
    "import numpy as np\n",
    "import pandas as pd\n",
    "from sklearn.model_selection import GridSearchCV, KFold, RandomizedSearchCV\n",
    "from sklearn.metrics import r2_score, mean_absolute_error\n",
    "import matplotlib.pyplot as plt\n",
    "import seaborn as sns\n",
    "np.random.seed(39)\n",
    "\n",
    "SCORE_DOMAINS = ['Global Cognition', 'Language', 'Visuospatial Functioning', 'Memory',\\\n",
    "                 'Information Processing Speed', 'Executive Functioning']\n",
    "\n",
    "def calculate_regression_metrics(est_cv, X_train, X_test, y_train, y_test, model_name, score_domain, i_fold):\n",
    "    \n",
    "    scores = []\n",
    "    \n",
    "    y_predicted_train = est_cv.predict(X_train)\n",
    "    y_predicted_test = est_cv.predict(X_test)\n",
    "        \n",
    "    train_rsq = r2_score(y_train, y_predicted_train)\n",
    "    test_rsq = r2_score(y_test, y_predicted_test)        \n",
    "\n",
    "    train_mae = mean_absolute_error(y_train, y_predicted_train)\n",
    "    test_mae = mean_absolute_error(y_test, y_predicted_test)\n",
    "    \n",
    "    scores.append([model_name, score_domain, \"R2\", \"In-sample\", i_fold, train_rsq])\n",
    "    scores.append([model_name, score_domain, \"R2\", \"Out-of-sample\", i_fold, test_rsq])\n",
    "    scores.append([model_name, score_domain, \"MAE\", \"In-sample\", i_fold, train_mae])\n",
    "    scores.append([model_name, score_domain, \"MAE\", \"Out-of-sample\", i_fold, test_mae])\n",
    "    \n",
    "    return scores\n",
    "    \n",
    "    \n",
    "def run_regression(X, Y, estimator, grid, model_name, random_search_cv=False, n_jobs=-1, random_iter=20, \n",
    "                   nn=False, callbacks=None, print_best_params=True):\n",
    "\n",
    "    scores = []\n",
    "    best_params = []\n",
    "\n",
    "    for i_domain in range(Y.shape[1]):\n",
    "\n",
    "        print('\\n' + SCORE_DOMAINS[i_domain] + '\\n')\n",
    "        y = Y[:, i_domain]\n",
    "        \n",
    "        kfold_outer = KFold(n_splits=5, shuffle=True, random_state=39)\n",
    "\n",
    "        i_fold = 1\n",
    "\n",
    "        for train, test in kfold_outer.split(X):\n",
    "            \n",
    "            X_train = X[train]\n",
    "            X_test = X[test]\n",
    "\n",
    "            y_train = y[train]\n",
    "            y_test = y[test]\n",
    "            \n",
    "            kfold_inner = KFold(n_splits=5)\n",
    "            \n",
    "            if random_search_cv:\n",
    "                est_cv = RandomizedSearchCV(estimator=estimator, param_distributions=grid, n_jobs=n_jobs,\n",
    "                                            cv=kfold_inner, random_state=39, n_iter=random_iter, \n",
    "                                           )\n",
    "            else:\n",
    "                est_cv = GridSearchCV(estimator=estimator, param_grid=grid, n_jobs=n_jobs,\n",
    "                                      cv=kfold_inner)\n",
    "\n",
    "            if nn:\n",
    "                est_cv.fit(X_train, y_train, nn=True, callbacks=callbacks)\n",
    "\n",
    "            else:\n",
    "                est_cv.fit(X_train, y_train)\n",
    "\n",
    "            scores_fold = calculate_regression_metrics(est_cv, X_train, X_test, y_train, y_test, \n",
    "                                                       model_name, SCORE_DOMAINS[i_domain], i_fold)\n",
    "            \n",
    "            scores.extend(scores_fold)\n",
    "\n",
    "            best_params.append([model_name, SCORE_DOMAINS[i_domain], i_fold, est_cv.best_params_])\n",
    "\n",
    "            if print_best_params:\n",
    "                print('Fold-' + str(i_fold) + ': Best params: ' + str(est_cv.best_params_))\n",
    "\n",
    "            i_fold += 1\n",
    "\n",
    "\n",
    "    scores_df = pd.DataFrame(scores, columns=[\"Model\", \"Domain\", \"Metric\", \"Score type\", \"Fold\", \"Score\"])    \n",
    "    best_params_df = pd.DataFrame(best_params, columns=[\"Model\", \"Domain\", \"Fold\", \"Best params\"])\n",
    "    \n",
    "    return scores_df, best_params_df\n",
    "\n",
    "\n",
    "def plot_scores(score_df, score_type, hue_order=None):\n",
    "\n",
    "    data = score_df[(score_df[\"Score type\"] == score_type)]\n",
    "    palette = {\"Ridge\": \"C0\", \"SVR-RBF\": \"C7\", \"Random Forest\": \"C2\", \"Neural Network\": \"C4\", \"XGBoost\": \"C3\"}\n",
    "    g = sns.catplot(x=\"Domain\", y=\"Score\", hue=\"Model\", col=\"Metric\",\n",
    "                    data=data, ci=\"sd\", kind=\"bar\", hue_order=hue_order, palette=palette)\n",
    "\n",
    "    g.set_axis_labels(\"\", \"Score (Mean and Standard Deviation across 5 CV folds)\")\n",
    "\n",
    "    for i, ax in enumerate(g.fig.axes):\n",
    "        ax.set_xticklabels(ax.get_xticklabels(), rotation=65)\n",
    "        ax.axhline(0, color=\"black\")\n",
    "        ax.axhline(0.2, color=\"black\")\n",
    "\n",
    "    g.fig.suptitle(\"Regression results: \" + score_type, y=1.08, fontsize=30)\n",
    "\n",
    "    if score_type == \"Out-of-sample\":\n",
    "        g.set(ylim=(-0.2, 0.2))\n",
    "    if score_type == \"In-sample\":\n",
    "        g.set(ylim=(-0.1, 1.1))\n",
    "    \n",
    "#     g.set(ylim=(-0.2, 0.4))\n",
    "\n",
    "def plot_all_scores(score_df, hue_order=None):\n",
    "    plot_scores(score_df, \"Out-of-sample\", hue_order=hue_order)\n",
    "    plot_scores(score_df, \"In-sample\", hue_order=hue_order)"
   ]
  },
  {
   "cell_type": "code",
   "execution_count": null,
   "metadata": {},
   "outputs": [],
   "source": []
  },
  {
   "cell_type": "markdown",
   "metadata": {
    "colab_type": "text",
    "id": "Ohj9PIlnw830"
   },
   "source": [
    "### Ridge"
   ]
  },
  {
   "cell_type": "code",
   "execution_count": 20,
   "metadata": {},
   "outputs": [],
   "source": [
    "def run_ridge_regr(X, Y):   \n",
    "    estimator = Ridge() \n",
    "    alpha = np.append(np.linspace(1000, 600000, 3000), np.linspace(2050000, 2200000, 100))\n",
    "    grid = {\"alpha\": alpha}   \n",
    "    return run_regression(X, Y, estimator, grid, \"Ridge\", print_best_params=True)\n"
   ]
  },
  {
   "cell_type": "code",
   "execution_count": 21,
   "metadata": {},
   "outputs": [
    {
     "name": "stdout",
     "output_type": "stream",
     "text": [
      "\n",
      "Global Cognition\n",
      "\n",
      "Fold-1: Best params: {'alpha': 13383.461153717906}\n",
      "Fold-2: Best params: {'alpha': 10187.729243081027}\n",
      "Fold-3: Best params: {'alpha': 13383.461153717906}\n",
      "Fold-4: Best params: {'alpha': 19175.72524174725}\n",
      "Fold-5: Best params: {'alpha': 14781.593864621542}\n",
      "\n",
      "Language\n",
      "\n",
      "Fold-1: Best params: {'alpha': 29961.320440146716}\n",
      "Fold-2: Best params: {'alpha': 55926.64221407136}\n",
      "Fold-3: Best params: {'alpha': 23769.589863287765}\n",
      "Fold-4: Best params: {'alpha': 57125.04168056019}\n",
      "Fold-5: Best params: {'alpha': 46738.912970990335}\n",
      "\n",
      "Visuospatial Functioning\n",
      "\n",
      "Fold-1: Best params: {'alpha': 119441.81393797933}\n",
      "Fold-2: Best params: {'alpha': 47138.37945981994}\n",
      "Fold-3: Best params: {'alpha': 41745.58186062021}\n",
      "Fold-4: Best params: {'alpha': 18576.525508502837}\n",
      "Fold-5: Best params: {'alpha': 24169.05635211737}\n",
      "\n",
      "Memory\n",
      "\n",
      "Fold-1: Best params: {'alpha': 21971.99066355452}\n",
      "Fold-2: Best params: {'alpha': 36552.51750583528}\n",
      "Fold-3: Best params: {'alpha': 23569.85661887296}\n",
      "Fold-4: Best params: {'alpha': 26965.321773924643}\n",
      "Fold-5: Best params: {'alpha': 15580.52684228076}\n",
      "\n",
      "Information Processing Speed\n",
      "\n",
      "Fold-1: Best params: {'alpha': 332956.6522174058}\n",
      "Fold-2: Best params: {'alpha': 422037.6792264088}\n",
      "Fold-3: Best params: {'alpha': 65513.837945982}\n",
      "Fold-4: Best params: {'alpha': 176765.25508502836}\n",
      "Fold-5: Best params: {'alpha': 167178.05935311771}\n",
      "\n",
      "Executive Functioning\n",
      "\n",
      "Fold-1: Best params: {'alpha': 222903.6345448483}\n",
      "Fold-2: Best params: {'alpha': 529494.1647215739}\n",
      "Fold-3: Best params: {'alpha': 408256.0853617873}\n",
      "Fold-4: Best params: {'alpha': 269042.0140046682}\n",
      "Fold-5: Best params: {'alpha': 2109090.909090909}\n"
     ]
    }
   ],
   "source": [
    "scores_df_ridge, best_params_df_ridge = run_ridge_regr(X_pc, Y)"
   ]
  },
  {
   "cell_type": "code",
   "execution_count": null,
   "metadata": {},
   "outputs": [],
   "source": []
  },
  {
   "cell_type": "markdown",
   "metadata": {
    "colab_type": "text",
    "id": "lpzSEHVyw838"
   },
   "source": [
    "### SVR"
   ]
  },
  {
   "cell_type": "code",
   "execution_count": 26,
   "metadata": {
    "colab": {},
    "colab_type": "code",
    "id": "fLww7SZhw839"
   },
   "outputs": [],
   "source": [
    "def run_svr_rbf_regr(X, Y):\n",
    "    estimator = SVR(kernel='rbf') \n",
    "    grid = { \"C\": [1e-3, 1e-2, 1e-1, 1e0, 1e1, 1e2, 1e3], \n",
    "             \"gamma\": np.logspace(-1, 8, 10)}\n",
    "    return run_regression(X, Y, estimator, grid, \"SVR-RBF\", print_best_params=True)"
   ]
  },
  {
   "cell_type": "code",
   "execution_count": 27,
   "metadata": {
    "colab": {
     "base_uri": "https://localhost:8080/",
     "height": 204
    },
    "colab_type": "code",
    "executionInfo": {
     "elapsed": 895298,
     "status": "ok",
     "timestamp": 1583442725158,
     "user": {
      "displayName": "Hasnain Mamdani",
      "photoUrl": "",
      "userId": "14802377361007897128"
     },
     "user_tz": 300
    },
    "id": "aav40Kv6w84F",
    "outputId": "4e18cf7c-6bce-47fa-ac28-0ce77f39b8e0"
   },
   "outputs": [
    {
     "name": "stdout",
     "output_type": "stream",
     "text": [
      "\n",
      "Global Cognition\n",
      "\n",
      "Fold-1: Best params: {'C': 1.0, 'gamma': 0.1}\n",
      "Fold-2: Best params: {'C': 1.0, 'gamma': 0.1}\n",
      "Fold-3: Best params: {'C': 1.0, 'gamma': 1.0}\n",
      "Fold-4: Best params: {'C': 1.0, 'gamma': 0.1}\n",
      "Fold-5: Best params: {'C': 1.0, 'gamma': 0.1}\n",
      "\n",
      "Language\n",
      "\n",
      "Fold-1: Best params: {'C': 0.1, 'gamma': 10.0}\n",
      "Fold-2: Best params: {'C': 0.1, 'gamma': 100.0}\n",
      "Fold-3: Best params: {'C': 0.1, 'gamma': 0.1}\n",
      "Fold-4: Best params: {'C': 0.1, 'gamma': 10.0}\n",
      "Fold-5: Best params: {'C': 0.1, 'gamma': 100.0}\n",
      "\n",
      "Visuospatial Functioning\n",
      "\n",
      "Fold-1: Best params: {'C': 10.0, 'gamma': 1000.0}\n",
      "Fold-2: Best params: {'C': 10.0, 'gamma': 1000.0}\n",
      "Fold-3: Best params: {'C': 10.0, 'gamma': 100.0}\n",
      "Fold-4: Best params: {'C': 10.0, 'gamma': 100.0}\n",
      "Fold-5: Best params: {'C': 10.0, 'gamma': 100.0}\n",
      "\n",
      "Memory\n",
      "\n",
      "Fold-1: Best params: {'C': 0.1, 'gamma': 0.1}\n",
      "Fold-2: Best params: {'C': 0.1, 'gamma': 0.1}\n",
      "Fold-3: Best params: {'C': 0.1, 'gamma': 0.1}\n",
      "Fold-4: Best params: {'C': 0.1, 'gamma': 0.1}\n",
      "Fold-5: Best params: {'C': 0.1, 'gamma': 0.1}\n",
      "\n",
      "Information Processing Speed\n",
      "\n",
      "Fold-1: Best params: {'C': 1.0, 'gamma': 1.0}\n",
      "Fold-2: Best params: {'C': 1.0, 'gamma': 10000.0}\n",
      "Fold-3: Best params: {'C': 10.0, 'gamma': 10000.0}\n",
      "Fold-4: Best params: {'C': 1.0, 'gamma': 1.0}\n",
      "Fold-5: Best params: {'C': 1.0, 'gamma': 1.0}\n",
      "\n",
      "Executive Functioning\n",
      "\n",
      "Fold-1: Best params: {'C': 10.0, 'gamma': 1000.0}\n",
      "Fold-2: Best params: {'C': 1.0, 'gamma': 1000.0}\n",
      "Fold-3: Best params: {'C': 10.0, 'gamma': 1000.0}\n",
      "Fold-4: Best params: {'C': 10.0, 'gamma': 1000.0}\n",
      "Fold-5: Best params: {'C': 10.0, 'gamma': 1000.0}\n"
     ]
    }
   ],
   "source": [
    "scores_df_svr, best_params_df_svr = run_svr_rbf_regr(X_pc, Y)"
   ]
  },
  {
   "cell_type": "markdown",
   "metadata": {
    "colab_type": "text",
    "id": "thR7Z8qtw84I"
   },
   "source": [
    "### Random Forest"
   ]
  },
  {
   "cell_type": "code",
   "execution_count": 28,
   "metadata": {
    "colab": {},
    "colab_type": "code",
    "id": "yko7h1jMw84J"
   },
   "outputs": [],
   "source": [
    "def run_random_forest_regr(X, Y):\n",
    "    \n",
    "    estimator = RandomForestRegressor(random_state=39)\n",
    "\n",
    "    n_estimators = [800, 1000, 1200, 1400, 1600, 1800]\n",
    "    max_features = ['auto', 'sqrt', 'log2']\n",
    "    max_depth = [2, 5, 7, 10, 15, 20, 25, 30, 50, None]\n",
    "    min_samples_split = [1, 2, 5, 10, 15, 20]\n",
    "    min_samples_leaf = [1, 2, 4, 8, 12, 15, 18, 21]\n",
    "    max_samples = [0.2, 0.25, 0.3, 0.4, 0.5, 0.7, 0.8, 0.9, None]\n",
    "\n",
    "    \n",
    "    grid = {'n_estimators': n_estimators,\n",
    "               'max_features': max_features,\n",
    "               'max_depth': max_depth,\n",
    "               'min_samples_split': min_samples_split,\n",
    "               'min_samples_leaf': min_samples_leaf,\n",
    "               'max_samples': max_samples}\n",
    "    \n",
    "    return run_regression(X, Y, estimator, grid, \"Random Forest\", random_search_cv=True, random_iter=30, print_best_params=True)"
   ]
  },
  {
   "cell_type": "code",
   "execution_count": 29,
   "metadata": {
    "colab": {
     "base_uri": "https://localhost:8080/",
     "height": 360
    },
    "colab_type": "code",
    "executionInfo": {
     "elapsed": 342,
     "status": "ok",
     "timestamp": 1583460428496,
     "user": {
      "displayName": "Hasnain Mamdani",
      "photoUrl": "",
      "userId": "14802377361007897128"
     },
     "user_tz": 300
    },
    "id": "dnve2SvXw84N",
    "outputId": "1983c1ff-1c9b-4c55-f31d-977b5cb0bb6f"
   },
   "outputs": [
    {
     "name": "stdout",
     "output_type": "stream",
     "text": [
      "\n",
      "Global Cognition\n",
      "\n",
      "Fold-1: Best params: {'n_estimators': 1600, 'min_samples_split': 15, 'min_samples_leaf': 18, 'max_samples': 0.9, 'max_features': 'log2', 'max_depth': 7}\n",
      "Fold-2: Best params: {'n_estimators': 800, 'min_samples_split': 15, 'min_samples_leaf': 1, 'max_samples': 0.9, 'max_features': 'sqrt', 'max_depth': 7}\n",
      "Fold-3: Best params: {'n_estimators': 800, 'min_samples_split': 15, 'min_samples_leaf': 1, 'max_samples': 0.9, 'max_features': 'sqrt', 'max_depth': 7}\n",
      "Fold-4: Best params: {'n_estimators': 800, 'min_samples_split': 15, 'min_samples_leaf': 1, 'max_samples': 0.9, 'max_features': 'sqrt', 'max_depth': 7}\n",
      "Fold-5: Best params: {'n_estimators': 800, 'min_samples_split': 15, 'min_samples_leaf': 1, 'max_samples': 0.9, 'max_features': 'sqrt', 'max_depth': 7}\n",
      "\n",
      "Language\n",
      "\n",
      "Fold-1: Best params: {'n_estimators': 800, 'min_samples_split': 15, 'min_samples_leaf': 1, 'max_samples': 0.9, 'max_features': 'sqrt', 'max_depth': 7}\n",
      "Fold-2: Best params: {'n_estimators': 800, 'min_samples_split': 15, 'min_samples_leaf': 1, 'max_samples': 0.9, 'max_features': 'sqrt', 'max_depth': 7}\n",
      "Fold-3: Best params: {'n_estimators': 800, 'min_samples_split': 15, 'min_samples_leaf': 1, 'max_samples': 0.9, 'max_features': 'sqrt', 'max_depth': 7}\n",
      "Fold-4: Best params: {'n_estimators': 800, 'min_samples_split': 15, 'min_samples_leaf': 1, 'max_samples': 0.9, 'max_features': 'sqrt', 'max_depth': 7}\n",
      "Fold-5: Best params: {'n_estimators': 1800, 'min_samples_split': 10, 'min_samples_leaf': 2, 'max_samples': 0.25, 'max_features': 'auto', 'max_depth': 5}\n",
      "\n",
      "Visuospatial Functioning\n",
      "\n",
      "Fold-1: Best params: {'n_estimators': 1600, 'min_samples_split': 15, 'min_samples_leaf': 18, 'max_samples': 0.9, 'max_features': 'log2', 'max_depth': 7}\n",
      "Fold-2: Best params: {'n_estimators': 1400, 'min_samples_split': 2, 'min_samples_leaf': 12, 'max_samples': 0.7, 'max_features': 'log2', 'max_depth': 2}\n",
      "Fold-3: Best params: {'n_estimators': 1400, 'min_samples_split': 2, 'min_samples_leaf': 12, 'max_samples': 0.7, 'max_features': 'log2', 'max_depth': 2}\n",
      "Fold-4: Best params: {'n_estimators': 1600, 'min_samples_split': 5, 'min_samples_leaf': 21, 'max_samples': 0.7, 'max_features': 'log2', 'max_depth': 50}\n",
      "Fold-5: Best params: {'n_estimators': 1800, 'min_samples_split': 5, 'min_samples_leaf': 21, 'max_samples': 0.2, 'max_features': 'sqrt', 'max_depth': 20}\n",
      "\n",
      "Memory\n",
      "\n",
      "Fold-1: Best params: {'n_estimators': 800, 'min_samples_split': 15, 'min_samples_leaf': 1, 'max_samples': 0.9, 'max_features': 'sqrt', 'max_depth': 7}\n",
      "Fold-2: Best params: {'n_estimators': 1000, 'min_samples_split': 15, 'min_samples_leaf': 12, 'max_samples': None, 'max_features': 'sqrt', 'max_depth': 2}\n",
      "Fold-3: Best params: {'n_estimators': 800, 'min_samples_split': 15, 'min_samples_leaf': 1, 'max_samples': 0.9, 'max_features': 'sqrt', 'max_depth': 7}\n",
      "Fold-4: Best params: {'n_estimators': 800, 'min_samples_split': 15, 'min_samples_leaf': 1, 'max_samples': 0.9, 'max_features': 'sqrt', 'max_depth': 7}\n",
      "Fold-5: Best params: {'n_estimators': 800, 'min_samples_split': 15, 'min_samples_leaf': 1, 'max_samples': 0.9, 'max_features': 'sqrt', 'max_depth': 7}\n",
      "\n",
      "Information Processing Speed\n",
      "\n",
      "Fold-1: Best params: {'n_estimators': 1400, 'min_samples_split': 2, 'min_samples_leaf': 12, 'max_samples': 0.7, 'max_features': 'log2', 'max_depth': 2}\n",
      "Fold-2: Best params: {'n_estimators': 1800, 'min_samples_split': 5, 'min_samples_leaf': 21, 'max_samples': 0.2, 'max_features': 'sqrt', 'max_depth': 20}\n",
      "Fold-3: Best params: {'n_estimators': 1400, 'min_samples_split': 2, 'min_samples_leaf': 12, 'max_samples': 0.7, 'max_features': 'log2', 'max_depth': 2}\n",
      "Fold-4: Best params: {'n_estimators': 1800, 'min_samples_split': 5, 'min_samples_leaf': 21, 'max_samples': 0.2, 'max_features': 'sqrt', 'max_depth': 20}\n",
      "Fold-5: Best params: {'n_estimators': 1400, 'min_samples_split': 2, 'min_samples_leaf': 12, 'max_samples': 0.7, 'max_features': 'log2', 'max_depth': 2}\n",
      "\n",
      "Executive Functioning\n",
      "\n",
      "Fold-1: Best params: {'n_estimators': 1400, 'min_samples_split': 2, 'min_samples_leaf': 12, 'max_samples': 0.7, 'max_features': 'log2', 'max_depth': 2}\n",
      "Fold-2: Best params: {'n_estimators': 1400, 'min_samples_split': 2, 'min_samples_leaf': 12, 'max_samples': 0.7, 'max_features': 'log2', 'max_depth': 2}\n",
      "Fold-3: Best params: {'n_estimators': 1000, 'min_samples_split': 15, 'min_samples_leaf': 12, 'max_samples': None, 'max_features': 'sqrt', 'max_depth': 2}\n",
      "Fold-4: Best params: {'n_estimators': 1800, 'min_samples_split': 5, 'min_samples_leaf': 21, 'max_samples': 0.2, 'max_features': 'sqrt', 'max_depth': 20}\n",
      "Fold-5: Best params: {'n_estimators': 1400, 'min_samples_split': 2, 'min_samples_leaf': 12, 'max_samples': 0.7, 'max_features': 'log2', 'max_depth': 2}\n"
     ]
    }
   ],
   "source": [
    "scores_df_rf, best_params_df_rf = run_random_forest_regr(X_pc, Y)"
   ]
  },
  {
   "cell_type": "markdown",
   "metadata": {
    "colab_type": "text",
    "id": "hFV2OfT7w84Q"
   },
   "source": [
    "### XGBoost"
   ]
  },
  {
   "cell_type": "code",
   "execution_count": 11,
   "metadata": {
    "colab": {},
    "colab_type": "code",
    "id": "b3VRJoJCw84R"
   },
   "outputs": [],
   "source": [
    "# def run_xgboost_regr(X, Y):\n",
    "\n",
    "#     estimator = xgb.XGBRegressor(objective='reg:squarederror', random_state=39)\n",
    "#     grid = {'n_estimators'    : [10, 50, 100, 150, 200],\n",
    "#                 \"learning_rate\"    : [0.10, 0.15, 0.20, 0.25] ,\n",
    "#                 \"max_depth\"        : [ 3, 4, 5, 6, 8, 10],\n",
    "#                 \"min_child_weight\" : [ 5, 7, 9, 11, 15 ],\n",
    "#                 \"gamma\"            : [ 0.0, 0.1, 0.2 , 0.3],\n",
    "#                 \"booster\"          : ['gbtree', 'gblinear',  'dart' ],\n",
    "#                 \"colsample_bytree\" : [ 0.1, 0.2, 0.3, 0.4, 0.5 , 0.7, 1 ]}\n",
    "\n",
    "#     return run_regression(X, Y, estimator, grid, \"XGBoost\", random_search_cv=True, n_jobs=1, print_best_params=True)\n"
   ]
  },
  {
   "cell_type": "code",
   "execution_count": null,
   "metadata": {
    "colab": {
     "base_uri": "https://localhost:8080/",
     "height": 394
    },
    "colab_type": "code",
    "executionInfo": {
     "elapsed": 1399196,
     "status": "ok",
     "timestamp": 1583461854322,
     "user": {
      "displayName": "Hasnain Mamdani",
      "photoUrl": "",
      "userId": "14802377361007897128"
     },
     "user_tz": 300
    },
    "id": "1iCpXNNYw84U",
    "outputId": "7ae5fc9b-8ed5-4aaa-ef39-b89798dc1cba"
   },
   "outputs": [],
   "source": [
    "# scores_df_xgb, best_params_df_xgb = run_xgboost_regr(X_pc, Y)"
   ]
  },
  {
   "cell_type": "markdown",
   "metadata": {
    "colab_type": "text",
    "id": "RH8f5vKlw84Y"
   },
   "source": [
    "### Neural Net "
   ]
  },
  {
   "cell_type": "code",
   "execution_count": 16,
   "metadata": {
    "colab": {},
    "colab_type": "code",
    "id": "bkGLCVe3w84Z"
   },
   "outputs": [],
   "source": [
    "# from keras.wrappers.scikit_learn import KerasRegressor\n",
    "# from keras.models import Sequential\n",
    "# from keras.layers import Dense\n",
    "# from keras.optimizers import Adam\n",
    "# from keras.callbacks import EarlyStopping\n",
    "# from keras.regularizers import l2\n",
    "\n",
    "# def build_model(l1_units, l2_units, l3_units, lr, l2_reg):\n",
    "    \n",
    "#     # maybe more layers will help in mixup?\n",
    "#     model = Sequential()\n",
    "#     model.add(Dense(l1_units, input_dim=N_PCA, activation='relu', kernel_initializer='normal', kernel_regularizer=l2(l2_reg)))\n",
    "#     model.add(Dense(l2_units, activation='relu', kernel_initializer='normal', kernel_regularizer=l2(l2_reg)))\n",
    "#     #     model.add(Dense(l2_units, activation='relu', kernel_initializer='normal', kernel_regularizer=l2(l2_reg)))\n",
    "#     #     model.add(Dense(l2_units, activation='relu', kernel_initializer='normal', kernel_regularizer=l2(l2_reg)))\n",
    "#     #     model.add(Dense(l3_units, activation='relu', kernel_initializer='normal', kernel_regularizer=l2(l2_reg)))\n",
    "#     model.add(Dense(l3_units, activation='relu', kernel_initializer='normal', kernel_regularizer=l2(l2_reg)))\n",
    "#     model.add(Dense(1, kernel_initializer='normal', activation=None, kernel_regularizer=l2(l2_reg)))\n",
    "\n",
    "#     adam = Adam(lr=lr)\n",
    "#     model.compile(loss='mse', metrics=['mae'], optimizer=adam)\n",
    "#     return model\n",
    "\n",
    "# def run_nn_regr(X, Y):\n",
    "              \n",
    "#     es = EarlyStopping(monitor='val_loss', mode='min', min_delta=0.0001, patience=3, restore_best_weights=True)\n",
    "#     estimator = KerasRegressor(build_fn=build_model, epochs=100, verbose=0)\n",
    "    \n",
    "#     lr = [0.050, 0.025, 0.010, 0.005]\n",
    "#     l1_units = [25]\n",
    "#     l2_units = [15]\n",
    "#     l3_units = [10]\n",
    "#     l2_reg = [0.20, 0.15, 0.10, 0.05, 0.01, 0.00]\n",
    "#     batch_size = [1, 2, 4, 8, 16, 32, 64, 128]\n",
    "\n",
    "#     grid = {'l1_units': l1_units,\n",
    "#                'l2_units': l2_units,\n",
    "#                'l3_units': l3_units,\n",
    "#                'lr': lr,\n",
    "#                'l2_reg': l2_reg,\n",
    "#                'batch_size': batch_size}\n",
    "\n",
    "#     return run_regression(X, Y, estimator, grid, \"Neural Network\", print_best_params=True, random_search_cv=True, \\\n",
    "#                                                 nn=True, callbacks=[es])\n"
   ]
  },
  {
   "cell_type": "code",
   "execution_count": 17,
   "metadata": {
    "colab": {
     "base_uri": "https://localhost:8080/",
     "height": 598
    },
    "colab_type": "code",
    "executionInfo": {
     "elapsed": 338793,
     "status": "ok",
     "timestamp": 1583465100965,
     "user": {
      "displayName": "Hasnain Mamdani",
      "photoUrl": "",
      "userId": "14802377361007897128"
     },
     "user_tz": 300
    },
    "id": "-MXMziZ4w84c",
    "outputId": "9c6bf548-60eb-4597-9530-c05cfea65afa"
   },
   "outputs": [],
   "source": [
    "# scores_df_nn, best_params_df_nn = run_nn_regr(X_pc, Y)"
   ]
  },
  {
   "cell_type": "code",
   "execution_count": null,
   "metadata": {
    "colab": {},
    "colab_type": "code",
    "id": "wPr5MkGLw84f"
   },
   "outputs": [],
   "source": []
  },
  {
   "cell_type": "code",
   "execution_count": 2,
   "metadata": {},
   "outputs": [],
   "source": [
    "# scores_df_all = pd.concat([scores_df_ridge, scores_df_svr, scores_df_rf], ignore_index=True)\n",
    "\n",
    "# persist results\n",
    "# scores_df_all.to_hdf('results/results_pca_100_single_output.h5', key='p', mode='w')\n",
    "scores_df_all = pd.read_hdf('results/results_pca_100_single_output.h5', key='p', mode='r')"
   ]
  },
  {
   "cell_type": "code",
   "execution_count": 17,
   "metadata": {},
   "outputs": [],
   "source": [
    "# scores_df_all[(scores_df_all[\"Domain\"]==\"Information Processing Speed\") & (scores_df_all[\"Metric\"]==\"R2\") & \n",
    "#               (scores_df_all[\"Score type\"]==\"Out-of-sample\") & (scores_df_all[\"Model\"]==\"SVR-RBF\")]\n"
   ]
  },
  {
   "cell_type": "code",
   "execution_count": 37,
   "metadata": {},
   "outputs": [
    {
     "data": {
      "image/png": "[encoded data removed]",
      "text/plain": [
       "<Figure size 471.625x360 with 1 Axes>"
      ]
     },
     "metadata": {
      "needs_background": "light"
     },
     "output_type": "display_data"
    },
    {
     "data": {
      "image/png": "[encoded data removed]",
      "text/plain": [
       "<Figure size 471.625x360 with 1 Axes>"
      ]
     },
     "metadata": {
      "needs_background": "light"
     },
     "output_type": "display_data"
    }
   ],
   "source": [
    "plot_all_scores(scores_df_all[scores_df_all[\"Metric\"]==\"R2\"])"
   ]
  },
  {
   "cell_type": "code",
   "execution_count": 18,
   "metadata": {},
   "outputs": [],
   "source": [
    "# plot_all_scores(scores_df_all[(scores_df_all[\"Model\"] == \"Ridge\") | (scores_df_all[\"Model\"] == \"Random Forest\")])\n",
    "# plot_all_scores(scores_df_ridge)"
   ]
  },
  {
   "cell_type": "code",
   "execution_count": null,
   "metadata": {},
   "outputs": [],
   "source": []
  }
 ],
 "metadata": {
  "colab": {
   "collapsed_sections": [],
   "name": "pca-100-single-output-regression-colab.ipynb",
   "provenance": []
  },
  "kernelspec": {
   "display_name": "Python 3",
   "language": "python",
   "name": "python3"
  },
  "language_info": {
   "codemirror_mode": {
    "name": "ipython",
    "version": 3
   },
   "file_extension": ".py",
   "mimetype": "text/x-python",
   "name": "python",
   "nbconvert_exporter": "python",
   "pygments_lexer": "ipython3",
   "version": "3.7.6"
  }
 },
 "nbformat": 4,
 "nbformat_minor": 4
}
