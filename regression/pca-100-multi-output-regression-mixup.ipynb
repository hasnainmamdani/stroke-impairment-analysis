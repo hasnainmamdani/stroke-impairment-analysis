{
 "cells": [
  {
   "cell_type": "code",
   "execution_count": 27,
   "metadata": {},
   "outputs": [],
   "source": [
    "DATA_DIR = '../../data/' # for local\n",
    "# DATA_DIR = 'drive/My Drive/colab/' # for colab"
   ]
  },
  {
   "cell_type": "code",
   "execution_count": 28,
   "metadata": {},
   "outputs": [],
   "source": [
    "from nilearn.input_data import NiftiMasker\n",
    "from nilearn.datasets import load_mni152_brain_mask\n",
    "import os\n",
    "import glob\n",
    "import numpy as np\n",
    "import pandas as pd\n",
    "import random\n",
    "from sklearn.decomposition import PCA\n",
    "from sklearn.preprocessing import StandardScaler\n",
    "from sklearn.linear_model import MultiTaskElasticNet\n",
    "from sklearn.ensemble import RandomForestRegressor \n",
    "from sklearn.cross_decomposition import PLSRegression, CCA\n",
    "import regression_common\n",
    "import joblib\n",
    "import matplotlib.pyplot as plt\n",
    "\n",
    "from keras.wrappers.scikit_learn import KerasRegressor\n",
    "from keras.models import Sequential\n",
    "from keras.layers import Dense\n",
    "from keras.optimizers import Adam\n",
    "from keras.callbacks import EarlyStopping\n",
    "from keras.regularizers import l2\n",
    "\n",
    "#To ensure reproducibility\n",
    "random.seed(39)\n",
    "np.random.seed(39)"
   ]
  },
  {
   "cell_type": "code",
   "execution_count": 51,
   "metadata": {},
   "outputs": [],
   "source": [
    "if False: # to be done once only\n",
    "    \n",
    "    # Create/store/load binary image data\n",
    "    if not os.path.isfile(DATA_DIR + 'binary_imgs.npy'):\n",
    "\n",
    "        dataset_path = \"../sample-dataset/HallymBundang_lesionmaps_Bzdok_n1401/\"\n",
    "        img_filenames = glob.glob(os.path.join(dataset_path, '*.nii.gz'))\n",
    "        img_filenames.sort()\n",
    "        print('Number of subjects: %d' % len(img_filenames))\n",
    "\n",
    "        img_shape = load_img(img_filenames[0]).shape\n",
    "\n",
    "        mask_img = load_mni152_brain_mask()\n",
    "        masker = NiftiMasker(mask_img=mask_img, memory='nilearn_cache', verbose=5)\n",
    "        masker = masker.fit()\n",
    "\n",
    "        imgs = masker.transform(img_filenames) # break down into slices if necessary\n",
    "        imgs = imgs.astype(bool)\n",
    "        np.save(DATA_DIR + 'binary_imgs', imgs)\n",
    "\n",
    "    else:\n",
    "        imgs = np.load(DATA_DIR + 'binary_imgs.npy')\n",
    "\n",
    "    imgs.shape"
   ]
  },
  {
   "cell_type": "markdown",
   "metadata": {},
   "source": [
    "## Multitask analysis with 100 PC components"
   ]
  },
  {
   "cell_type": "code",
   "execution_count": 29,
   "metadata": {},
   "outputs": [
    {
     "data": {
      "text/plain": [
       "(1401, 100)"
      ]
     },
     "execution_count": 29,
     "metadata": {},
     "output_type": "execute_result"
    }
   ],
   "source": [
    "# Calculate 100 PC components\n",
    "if not os.path.isfile(DATA_DIR + 'binary_imgs_pc_100.npy'):    \n",
    "    pca = PCA(n_components=100, copy=False)\n",
    "    X_pc = pca.fit_transform(imgs)\n",
    "    np.save(DATA_DIR + 'binary_imgs_pc_100.npy', X_pc)\n",
    "    \n",
    "else:\n",
    "    X_pc = np.load(DATA_DIR + 'binary_imgs_pc_100.npy')\n",
    "    \n",
    "X_pc.shape"
   ]
  },
  {
   "cell_type": "code",
   "execution_count": 30,
   "metadata": {},
   "outputs": [
    {
     "name": "stdout",
     "output_type": "stream",
     "text": [
      "(1401, 6)\n"
     ]
    }
   ],
   "source": [
    "patient_df = pd.read_hdf(DATA_DIR + 'patients.h5', 'p')\n",
    "scaler_Y = StandardScaler()\n",
    "Y = scaler_Y.fit_transform(np.array(patient_df[patient_df.columns[5:11]]))\n",
    "print(Y.shape)"
   ]
  },
  {
   "cell_type": "code",
   "execution_count": null,
   "metadata": {},
   "outputs": [],
   "source": []
  },
  {
   "cell_type": "code",
   "execution_count": 62,
   "metadata": {},
   "outputs": [],
   "source": [
    "## common library\n",
    "\n",
    "import numpy as np\n",
    "import pandas as pd\n",
    "from sklearn.model_selection import GridSearchCV, KFold, RandomizedSearchCV\n",
    "from sklearn.metrics import r2_score, mean_absolute_error\n",
    "import matplotlib.pyplot as plt\n",
    "import seaborn as sns\n",
    "np.random.seed(39)\n",
    "\n",
    "def mixup_data(X, Y, alpha=0.1, mul_factor=10):\n",
    "    \n",
    "    rs = np.random.RandomState(39)\n",
    "    n = X.shape[0]\n",
    "    \n",
    "    mixed_X = np.empty((n*(mul_factor-1), X.shape[1]))\n",
    "    mixed_Y = np.empty((n*(mul_factor-1), Y.shape[1]))\n",
    "    \n",
    "    for i in range(mul_factor-1):\n",
    "        \n",
    "        # sample more than needed as some will be filtered out\n",
    "        lam = np.random.beta(alpha, alpha, size=round(n*1.2))\n",
    "        \n",
    "        # original data vectors will be concatenated later\n",
    "        lam = lam[(lam!=0.0) & (lam!=1.0)][:n][:, None]\n",
    "        \n",
    "        shuffle_idx = rs.choice(np.arange(n), n, replace=False)\n",
    "\n",
    "        mixed_X[i*n : (i+1)*n] = lam * X + (1 - lam) * X[shuffle_idx, :]\n",
    "        mixed_Y[i*n : (i+1)*n] = lam * Y + (1 - lam) * Y[shuffle_idx, :]\n",
    "        \n",
    "    # concatenate original data vectors\n",
    "    mixed_X = np.append(mixed_X, X, axis=0)\n",
    "    mixed_Y = np.append(mixed_Y, Y, axis=0)\n",
    "            \n",
    "    return mixed_X, mixed_Y\n",
    "\n",
    "\n",
    "SCORE_DOMAINS = ['Global Cognition', 'Language', 'Visuospatial Functioning', 'Memory',\\\n",
    "                 'Information Processing Speed', 'Executive Functioning']\n",
    "\n",
    "def calculate_regression_metrics(est_cv, X_train, X_test, y_train, y_test, model_name, i_fold, score_domain=None):\n",
    "    \n",
    "    scores = []\n",
    "    \n",
    "    y_predicted_train = est_cv.predict(X_train)\n",
    "    y_predicted_test = est_cv.predict(X_test)\n",
    "        \n",
    "    train_rsq = r2_score(y_train, y_predicted_train, multioutput='raw_values')\n",
    "    test_rsq = r2_score(y_test, y_predicted_test, multioutput='raw_values')        \n",
    "\n",
    "    train_mae = mean_absolute_error(y_train, y_predicted_train, multioutput='raw_values')\n",
    "    test_mae = mean_absolute_error(y_test, y_predicted_test, multioutput='raw_values')\n",
    "    \n",
    "    if score_domain is None: # multioutput model\n",
    "        \n",
    "        for i in range(len(SCORE_DOMAINS)):\n",
    "            scores.append([model_name, SCORE_DOMAINS[i], \"R2\", \"In-sample\", i_fold, train_rsq[i]])\n",
    "            scores.append([model_name, SCORE_DOMAINS[i], \"R2\", \"Out-of-sample\", i_fold, test_rsq[i]])\n",
    "            scores.append([model_name, SCORE_DOMAINS[i], \"MAE\", \"In-sample\", i_fold, train_mae[i]])\n",
    "            scores.append([model_name, SCORE_DOMAINS[i], \"MAE\", \"Out-of-sample\", i_fold, test_mae[i]])\n",
    "        \n",
    "    else:\n",
    "\n",
    "        scores.append([model_name, score_domain, \"R2\", \"In-sample\", i_fold, train_rsq])\n",
    "        scores.append([model_name, score_domain, \"R2\", \"Out-of-sample\", i_fold, test_rsq])\n",
    "        scores.append([model_name, score_domain, \"MAE\", \"In-sample\", i_fold, train_mae])\n",
    "        scores.append([model_name, score_domain, \"MAE\", \"Out-of-sample\", i_fold, test_mae])\n",
    "    \n",
    "    return scores\n",
    "    \n",
    "    \n",
    "def run_regression(X, Y, estimator, grid, model_name, random_search_cv=False, n_jobs=-1, random_iter=20, \n",
    "                   pca_fold=False, nn=False, callbacks=None, print_best_params=True, \n",
    "                   multioutput=False, mixup=False, mixup_alpha=0.1, mixup_mul_factor=10):\n",
    "\n",
    "    scores = []\n",
    "    best_params = []\n",
    "\n",
    "    kfold_outer = KFold(n_splits=5, shuffle=True, random_state=39)\n",
    "\n",
    "    i_fold = 1\n",
    "\n",
    "    for train, test in kfold_outer.split(X):\n",
    "\n",
    "        X_train = X[train]\n",
    "        X_test = X[test]\n",
    "        \n",
    "        if pca_fold:\n",
    "            pca = PCA(n_components=100)\n",
    "            X_train = pca.fit_transform(X_train)\n",
    "            X_test = pca.transform(X_test)\n",
    "        \n",
    "        Y_train = Y[train]\n",
    "        Y_test = Y[test]        \n",
    "                \n",
    "\n",
    "        if mixup:\n",
    "            X_train, Y_train = mixup_data(X_train, Y_train, alpha=mixup_alpha, mul_factor=mixup_mul_factor)\n",
    "\n",
    "        kfold_inner = KFold(n_splits=5)\n",
    "\n",
    "        if random_search_cv:\n",
    "            est_cv = RandomizedSearchCV(estimator=estimator, param_distributions=grid, n_jobs=n_jobs,\n",
    "                                        cv=kfold_inner, random_state=39, n_iter=random_iter)\n",
    "        else:\n",
    "            est_cv = GridSearchCV(estimator=estimator, param_grid=grid, n_jobs=n_jobs,\n",
    "                                  cv=kfold_inner)\n",
    "\n",
    "\n",
    "        print('\\n' + 'Fold-' + str(i_fold) + ':\\n')\n",
    "        \n",
    "        if multioutput:\n",
    "            \n",
    "            if nn:\n",
    "                est_cv.fit(X_train, Y_train, nn=True, callbacks=callbacks)\n",
    "\n",
    "            else:\n",
    "                est_cv.fit(X_train, Y_train)\n",
    "\n",
    "            scores_fold = calculate_regression_metrics(est_cv, X_train, X_test, Y_train, Y_test, \n",
    "                                                       model_name, i_fold)\n",
    "\n",
    "            scores.extend(scores_fold)\n",
    "\n",
    "            best_params.append([model_name, i_fold, est_cv.best_params_])\n",
    "            \n",
    "            \n",
    "        else: # single output models            \n",
    "            \n",
    "            for i_domain in range(Y.shape[1]):\n",
    "                \n",
    "                print(SCORE_DOMAINS[i_domain])\n",
    "                \n",
    "                y_train = Y_train[:, i_domain]\n",
    "                y_test = Y_test[:, i_domain]\n",
    "            \n",
    "\n",
    "                if nn:\n",
    "                    est_cv.fit(X_train, y_train, nn=True, callbacks=callbacks)\n",
    "\n",
    "                else:\n",
    "                    est_cv.fit(X_train, y_train)\n",
    "\n",
    "                scores_fold = calculate_regression_metrics(est_cv, X_train, X_test, y_train, Y_test, \n",
    "                                                           model_name, i_fold, SCORE_DOMAINS[i_domain])\n",
    "\n",
    "                scores.extend(scores_fold)\n",
    "\n",
    "                best_params.append([model_name, SCORE_DOMAINS[i_domain], i_fold, est_cv.best_params_])\n",
    "     \n",
    "        \n",
    "        if print_best_params:\n",
    "            print(best_params[-1])\n",
    "\n",
    "        i_fold += 1\n",
    "\n",
    "\n",
    "    scores_df = pd.DataFrame(scores, columns=[\"Model\", \"Domain\", \"Metric\", \"Score type\", \"Fold\", \"Score\"])    \n",
    "    best_params_df = pd.DataFrame(best_params)\n",
    "    \n",
    "    return scores_df, best_params_df\n",
    "\n",
    "\n",
    "def plot_scores(score_df, score_type, hue_order=None):\n",
    "\n",
    "    data = score_df[(score_df[\"Score type\"] == score_type)]\n",
    "    \n",
    "    palette = {\"Ridge\":\"C0\", \"Multitask Ridge\": \"C0\", \"PLS\": \"C1\", \"Random Forest\": \"C2\", \"CCA\": \"C3\", \"Neural Network\": \"C4\",\n",
    "               \"Neural Network (Linear)\": \"C5\", \"SVR\": \"C6\", \"XGBoost\": \"C7\"}\n",
    "    \n",
    "    g = sns.catplot(x=\"Domain\", y=\"Score\", hue=\"Model\", col=\"Metric\", palette=palette,\n",
    "                    data=data, ci=\"sd\", kind=\"bar\", hue_order=hue_order)\n",
    "\n",
    "    g.set_axis_labels(\"\", \"Score (Mean and Standard Deviation across 5 CV folds)\")\n",
    "\n",
    "    for i, ax in enumerate(g.fig.axes):\n",
    "        ax.set_xticklabels(ax.get_xticklabels(), rotation=65)\n",
    "        ax.axhline(0, color=\"black\")\n",
    "\n",
    "    g.fig.suptitle(\"Regression results: \" + score_type, y=1.08, fontsize=30)\n",
    "\n",
    "    g.set(ylim=(-0.2, 1))\n",
    "\n",
    "def plot_all_scores(score_df, hue_order=None):\n",
    "    plot_scores(score_df, \"Out-of-sample\", hue_order=hue_order)\n",
    "    plot_scores(score_df, \"In-sample\", hue_order=hue_order)"
   ]
  },
  {
   "cell_type": "code",
   "execution_count": null,
   "metadata": {},
   "outputs": [],
   "source": []
  },
  {
   "cell_type": "markdown",
   "metadata": {},
   "source": [
    "### Multitask Ridge"
   ]
  },
  {
   "cell_type": "code",
   "execution_count": 46,
   "metadata": {},
   "outputs": [],
   "source": [
    "def perform_multitask_ridge(X, Y):\n",
    "    estimator = MultiTaskElasticNet(l1_ratio=0.001, max_iter=10000)\n",
    "    alpha = np.linspace(0, 2, 5)\n",
    "    grid={\"alpha\": alpha}\n",
    "\n",
    "    return run_regression(X, Y, estimator, grid, \"Multitask Ridge\", multioutput=True, \n",
    "                          mixup=True, mixup_alpha=0.1, mixup_mul_factor=3)"
   ]
  },
  {
   "cell_type": "code",
   "execution_count": 47,
   "metadata": {},
   "outputs": [
    {
     "name": "stdout",
     "output_type": "stream",
     "text": [
      "\n",
      "Fold-1:\n",
      "\n",
      "['Multitask Ridge', 1, {'alpha': 1.0}]\n",
      "\n",
      "Fold-2:\n",
      "\n",
      "['Multitask Ridge', 2, {'alpha': 1.0}]\n",
      "\n",
      "Fold-3:\n",
      "\n",
      "['Multitask Ridge', 3, {'alpha': 0.5}]\n",
      "\n",
      "Fold-4:\n",
      "\n",
      "['Multitask Ridge', 4, {'alpha': 0.5}]\n",
      "\n",
      "Fold-5:\n",
      "\n",
      "['Multitask Ridge', 5, {'alpha': 0.5}]\n"
     ]
    }
   ],
   "source": [
    "scores_mr, best_params_mr = perform_multitask_ridge(X_pc, Y)"
   ]
  },
  {
   "cell_type": "markdown",
   "metadata": {},
   "source": [
    "### PLS"
   ]
  },
  {
   "cell_type": "code",
   "execution_count": 48,
   "metadata": {},
   "outputs": [],
   "source": [
    "def perform_pls_regr(X, Y):\n",
    "    estimator = PLSRegression()\n",
    "    n_components = np.linspace(1, 6, 6, dtype=int)\n",
    "    grid = {'n_components': n_components}\n",
    "    return run_regression(X, Y, estimator, grid, \"PLS\", multioutput=True, \n",
    "                          mixup=True, mixup_alpha=0.1, mixup_mul_factor=5)"
   ]
  },
  {
   "cell_type": "code",
   "execution_count": 49,
   "metadata": {},
   "outputs": [
    {
     "name": "stdout",
     "output_type": "stream",
     "text": [
      "\n",
      "Fold-1:\n",
      "\n",
      "['PLS', 1, {'n_components': 6}]\n",
      "\n",
      "Fold-2:\n",
      "\n",
      "['PLS', 2, {'n_components': 6}]\n",
      "\n",
      "Fold-3:\n",
      "\n",
      "['PLS', 3, {'n_components': 6}]\n",
      "\n",
      "Fold-4:\n",
      "\n",
      "['PLS', 4, {'n_components': 6}]\n",
      "\n",
      "Fold-5:\n",
      "\n",
      "['PLS', 5, {'n_components': 6}]\n"
     ]
    }
   ],
   "source": [
    "scores_pls, best_params_pls = perform_pls_regr(X_pc, Y)"
   ]
  },
  {
   "cell_type": "markdown",
   "metadata": {},
   "source": [
    "### CCA"
   ]
  },
  {
   "cell_type": "code",
   "execution_count": 50,
   "metadata": {},
   "outputs": [],
   "source": [
    "def perform_cca_regr(X, Y):\n",
    "    print('Performing CCA (5-fold nested CV)')\n",
    "    estimator = CCA(n_components=6)\n",
    "    n_components = np.linspace(1, 6, 6, dtype=int)\n",
    "    grid = {'n_components': n_components}\n",
    "    return run_regression(X, Y, estimator, grid, \"CCA\", multioutput=True, \n",
    "                          mixup=True, mixup_alpha=0.1, mixup_mul_factor=5)"
   ]
  },
  {
   "cell_type": "code",
   "execution_count": 51,
   "metadata": {},
   "outputs": [
    {
     "name": "stdout",
     "output_type": "stream",
     "text": [
      "Performing CCA (5-fold nested CV)\n",
      "\n",
      "Fold-1:\n",
      "\n",
      "['CCA', 1, {'n_components': 1}]\n",
      "\n",
      "Fold-2:\n",
      "\n",
      "['CCA', 2, {'n_components': 1}]\n",
      "\n",
      "Fold-3:\n",
      "\n",
      "['CCA', 3, {'n_components': 1}]\n",
      "\n",
      "Fold-4:\n",
      "\n",
      "['CCA', 4, {'n_components': 1}]\n",
      "\n",
      "Fold-5:\n",
      "\n",
      "['CCA', 5, {'n_components': 1}]\n"
     ]
    }
   ],
   "source": [
    "scores_cca, best_params_cca = perform_cca_regr(X_pc, Y)"
   ]
  },
  {
   "cell_type": "markdown",
   "metadata": {},
   "source": [
    "### Random Forest Regression"
   ]
  },
  {
   "cell_type": "code",
   "execution_count": 37,
   "metadata": {},
   "outputs": [],
   "source": [
    "def perform_random_forest_regr(X, Y):\n",
    "    print('Performing Random Forest regression (5-fold nested CV)')\n",
    "    estimator = RandomForestRegressor(random_state=39)\n",
    "\n",
    "    n_estimators = [500, 1000, 1500, 2000, 2500, 3000, 3500, 5000]\n",
    "    max_features = ['auto', 'sqrt', 'log2']\n",
    "    max_depth = [50, 100, 150, 250, 500, None]\n",
    "    min_samples_split = [3, 4, 5, 6, 7, 8]\n",
    "    min_samples_leaf = [1, 2, 3]\n",
    "    max_samples = [0.85, 0.9, 0.95, 0.99, None]\n",
    "    \n",
    "    grid = {'n_estimators': n_estimators,\n",
    "               'max_features': max_features,\n",
    "               'max_depth': max_depth,\n",
    "               'min_samples_split': min_samples_split,\n",
    "               'min_samples_leaf': min_samples_leaf,\n",
    "               'max_samples': max_samples}\n",
    "\n",
    "    return run_regression(X, Y, estimator, grid, \"Random Forest\", random_search_cv=True, multioutput=True, \n",
    "                          mixup=True, mixup_alpha=0.05, mixup_mul_factor=5)"
   ]
  },
  {
   "cell_type": "code",
   "execution_count": 38,
   "metadata": {},
   "outputs": [
    {
     "name": "stdout",
     "output_type": "stream",
     "text": [
      "Performing Random Forest regression (5-fold nested CV)\n",
      "\n",
      "Fold-1:\n",
      "\n",
      "['Random Forest', 1, {'n_estimators': 2500, 'min_samples_split': 3, 'min_samples_leaf': 1, 'max_samples': None, 'max_features': 'auto', 'max_depth': 250}]\n",
      "\n",
      "Fold-2:\n",
      "\n",
      "['Random Forest', 2, {'n_estimators': 2500, 'min_samples_split': 3, 'min_samples_leaf': 1, 'max_samples': None, 'max_features': 'auto', 'max_depth': 250}]\n",
      "\n",
      "Fold-3:\n",
      "\n",
      "['Random Forest', 3, {'n_estimators': 2500, 'min_samples_split': 3, 'min_samples_leaf': 1, 'max_samples': None, 'max_features': 'auto', 'max_depth': 250}]\n",
      "\n",
      "Fold-4:\n",
      "\n",
      "['Random Forest', 4, {'n_estimators': 2500, 'min_samples_split': 3, 'min_samples_leaf': 1, 'max_samples': None, 'max_features': 'auto', 'max_depth': 250}]\n",
      "\n",
      "Fold-5:\n",
      "\n",
      "['Random Forest', 5, {'n_estimators': 2500, 'min_samples_split': 3, 'min_samples_leaf': 1, 'max_samples': None, 'max_features': 'auto', 'max_depth': 250}]\n"
     ]
    }
   ],
   "source": [
    "scores_rf2, best_params_rf2 = perform_random_forest_regr(X_pc, Y)"
   ]
  },
  {
   "cell_type": "code",
   "execution_count": 10,
   "metadata": {},
   "outputs": [],
   "source": []
  },
  {
   "cell_type": "code",
   "execution_count": 60,
   "metadata": {},
   "outputs": [],
   "source": [
    "# Organize results from all models and plot\n",
    "scores_all_models = pd.concat([scores_mr, scores_pls, scores_cca, scores_rf2], ignore_index=True)\n",
    "\n",
    "# persist/load results\n",
    "# scores_all_models.to_hdf('../data/results_pca_100_multioutput.h5', key='p', mode='w')\n",
    "# scores_all_models = pd.read_hdf('../data/results_pca_100_multioutput.h5', key='p', mode='r')"
   ]
  },
  {
   "cell_type": "code",
   "execution_count": 63,
   "metadata": {},
   "outputs": [
    {
     "data": {
      "image/png": "[encoded data removed]",
      "text/plain": [
       "<Figure size 833.375x360 with 2 Axes>"
      ]
     },
     "metadata": {
      "needs_background": "light"
     },
     "output_type": "display_data"
    },
    {
     "data": {
      "image/png": "[encoded data removed]",
      "text/plain": [
       "<Figure size 833.375x360 with 2 Axes>"
      ]
     },
     "metadata": {
      "needs_background": "light"
     },
     "output_type": "display_data"
    }
   ],
   "source": [
    "# Plot results\n",
    "plot_all_scores(scores_all_models, hue_order=['Multitask Ridge', 'PLS', 'CCA', 'Random Forest'])"
   ]
  },
  {
   "cell_type": "code",
   "execution_count": null,
   "metadata": {},
   "outputs": [],
   "source": []
  }
 ],
 "metadata": {
  "kernelspec": {
   "display_name": "Python 3",
   "language": "python",
   "name": "python3"
  },
  "language_info": {
   "codemirror_mode": {
    "name": "ipython",
    "version": 3
   },
   "file_extension": ".py",
   "mimetype": "text/x-python",
   "name": "python",
   "nbconvert_exporter": "python",
   "pygments_lexer": "ipython3",
   "version": "3.7.6"
  }
 },
 "nbformat": 4,
 "nbformat_minor": 4
}
